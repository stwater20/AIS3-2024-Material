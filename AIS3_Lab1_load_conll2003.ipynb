{
 "cells": [
  {
   "cell_type": "code",
   "execution_count": 1,
   "metadata": {},
   "outputs": [
    {
     "name": "stdout",
     "output_type": "stream",
     "text": [
      "           Word  POS Chunk     Tag  Sentence_ID\n",
      "0    -DOCSTART-  -X-     O     NaN            0\n",
      "1        During  -X-     _       O            0\n",
      "2           the  -X-     _       O            0\n",
      "3          2015  -X-     _       O            0\n",
      "4       Ukraine  -X-     _   B-PER            0\n",
      "5      Electric  -X-     _   I-PER            0\n",
      "6         Power  -X-     _       O            0\n",
      "7        Attack  -X-     _       O            0\n",
      "8             ,  -X-     _       O            0\n",
      "9      Sandworm  -X-     _  B-MISC            0\n",
      "10         Team  -X-     _  I-MISC            0\n",
      "11     modified  -X-     _       O            0\n",
      "12  in-registry  -X-     _       O            0\n",
      "13     internet  -X-     _       O            0\n",
      "14     settings  -X-     _       O            0\n",
      "15           to  -X-     _       O            0\n",
      "16        lower  -X-     _       O            0\n",
      "17     internet  -X-     _       O            0\n",
      "18     security  -X-     _       O            0\n",
      "19            .  -X-     _       O            0\n"
     ]
    }
   ],
   "source": [
    "import pandas as pd\n",
    "\n",
    "def load_conll2003(file_path):\n",
    "    # Define column names based on your CoNLL file structure\n",
    "    col_names = ['Word', 'POS', 'Chunk', 'Tag']\n",
    "    \n",
    "    # Read the file\n",
    "    data = pd.read_csv(file_path, sep=' ', names=col_names, skip_blank_lines=False)\n",
    "    \n",
    "    # Handling sentences: Create a new column 'Sentence_ID' to identify sentences\n",
    "    data['Sentence_ID'] = (data['Word'].isna()).cumsum()\n",
    "    return data\n",
    "\n",
    "# Example usage\n",
    "file_path = 'sample.conll'\n",
    "df = load_conll2003(file_path)\n",
    "print(df.head(20))\n"
   ]
  },
  {
   "cell_type": "code",
   "execution_count": 2,
   "metadata": {},
   "outputs": [],
   "source": [
    "def convert_to_text(df):\n",
    "    df_filtered = df[df['Word'] != '-DOCSTART-']\n",
    "    \n",
    "    lines = df_filtered.apply(lambda row: f\"{row['Word']} {row['Tag']}\", axis=1)\n",
    "    \n",
    "    with open('output.txt', 'w') as f:\n",
    "        for line in lines:\n",
    "            f.write(line + '\\n')\n",
    "convert_to_text(df)"
   ]
  },
  {
   "cell_type": "code",
   "execution_count": null,
   "metadata": {},
   "outputs": [],
   "source": []
  }
 ],
 "metadata": {
  "kernelspec": {
   "display_name": "Python 3",
   "language": "python",
   "name": "python3"
  },
  "language_info": {
   "codemirror_mode": {
    "name": "ipython",
    "version": 3
   },
   "file_extension": ".py",
   "mimetype": "text/x-python",
   "name": "python",
   "nbconvert_exporter": "python",
   "pygments_lexer": "ipython3",
   "version": "3.9.6"
  }
 },
 "nbformat": 4,
 "nbformat_minor": 2
}
