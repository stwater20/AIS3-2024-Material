{
  "nbformat": 4,
  "nbformat_minor": 0,
  "metadata": {
    "colab": {
      "provenance": [],
      "toc_visible": true
    },
    "kernelspec": {
      "name": "python3",
      "display_name": "Python 3"
    },
    "accelerator": "GPU"
  },
  "cells": [
    {
      "cell_type": "markdown",
      "metadata": {
        "id": "BCmeo64HcLfs"
      },
      "source": [
        "# Note\n",
        "\n",
        "The following tutorial is accumulated from google colab's official tutorial.\n",
        "Possible additional comments, tips and tricks are added here and there."
      ]
    },
    {
      "cell_type": "code",
      "metadata": {
        "id": "FueL0AgGl8ol"
      },
      "source": [],
      "execution_count": null,
      "outputs": []
    },
    {
      "cell_type": "markdown",
      "metadata": {
        "id": "1YKJmOTK0hdr"
      },
      "source": [
        "Important concepts.\n",
        "\n",
        "1. Connect\n",
        "2. Code Cell\n",
        "3. Text Cell\n",
        "4. Runtime\n"
      ]
    },
    {
      "cell_type": "code",
      "metadata": {
        "id": "cLkX9vxT2VBR",
        "outputId": "f90d8acb-92cb-4c29-c908-b3e98263afb5",
        "colab": {
          "base_uri": "https://localhost:8080/",
          "height": 35
        }
      },
      "source": [
        "print(\"Hello world\")"
      ],
      "execution_count": null,
      "outputs": [
        {
          "output_type": "stream",
          "text": [
            "Hello world\n"
          ],
          "name": "stdout"
        }
      ]
    },
    {
      "cell_type": "markdown",
      "metadata": {
        "id": "DO6Z47v1bO-w"
      },
      "source": [
        "<p><img alt=\"Colaboratory logo\" height=\"45px\" src=\"/img/colab_favicon.ico\" align=\"left\" hspace=\"10px\" vspace=\"0px\"></p>\n",
        "\n",
        "<h1>Google Colaboratory!</h1>\n",
        "\n",
        "\n",
        "Colaboratory is a free Jupyter notebook environment that requires no setup and runs entirely in the cloud.\n",
        "\n",
        "With Colaboratory you can write and execute code, save and share your analyses, and access powerful computing resources, all for free from your browser."
      ]
    },
    {
      "cell_type": "code",
      "metadata": {
        "id": "oHTd7xQrt-BW",
        "outputId": "1d01d732-05fe-43cb-9ac0-1b045911546c",
        "colab": {
          "base_uri": "https://localhost:8080/",
          "height": 421
        }
      },
      "source": [
        "#@title Introducing Colaboratory { display-mode: \"form\" }\n",
        "#@markdown This 3-minute video gives an overview of the key features of Colaboratory:\n",
        "from IPython.display import YouTubeVideo\n",
        "YouTubeVideo('inN8seMm7UI', width=600, height=400)"
      ],
      "execution_count": null,
      "outputs": [
        {
          "output_type": "execute_result",
          "data": {
            "text/html": [
              "\n",
              "        <iframe\n",
              "            width=\"600\"\n",
              "            height=\"400\"\n",
              "            src=\"https://www.youtube.com/embed/inN8seMm7UI\"\n",
              "            frameborder=\"0\"\n",
              "            allowfullscreen\n",
              "        ></iframe>\n",
              "        "
            ],
            "text/plain": [
              "<IPython.lib.display.YouTubeVideo at 0x7f9917abc7b8>"
            ],
            "image/jpeg": "[encoded data removed]"
          },
          "metadata": {
            "tags": []
          },
          "execution_count": 5
        }
      ]
    },
    {
      "cell_type": "markdown",
      "metadata": {
        "id": "5FmXWIMVcfUt"
      },
      "source": [
        "# Virtual Machine\n",
        "The most powerful feature of google colab is the ability to use cloud GPU for free. Like the other desktop environment you can also access most of the bash command with a `!` added in the front of the command.\n",
        "\n",
        "At first turn on the GPU from `Runtime`->`Change Runtime Type`->`Hardware Acceleration`\n",
        "\n",
        "The entire colab runs in a cloud VM. Let's investigate the VM. You will see that the current colab notebook is running on top of `Ubuntu 18.04.3 LTS` (at the time of this writing.)"
      ]
    },
    {
      "cell_type": "code",
      "metadata": {
        "id": "PDqnY7fNbzbN",
        "outputId": "2c51ee3a-4ac4-49ad-98c4-6ce2fdc5cf5a",
        "colab": {
          "base_uri": "https://localhost:8080/",
          "height": 89
        }
      },
      "source": [
        "!ls -l\n",
        "!pwd"
      ],
      "execution_count": null,
      "outputs": [
        {
          "output_type": "stream",
          "text": [
            "total 8\n",
            "drwx------ 3 root root 4096 Nov  9 04:17 drive\n",
            "drwxr-xr-x 1 root root 4096 Nov  6 16:17 sample_data\n",
            "/content\n"
          ],
          "name": "stdout"
        }
      ]
    },
    {
      "cell_type": "code",
      "metadata": {
        "id": "rythfaRYdyFy",
        "outputId": "76d4357e-46bd-475b-9270-21a5b6c6725c",
        "colab": {
          "base_uri": "https://localhost:8080/",
          "height": 485
        }
      },
      "source": [
        "!ls -l /\n"
      ],
      "execution_count": null,
      "outputs": [
        {
          "output_type": "stream",
          "text": [
            "total 104\n",
            "drwxr-xr-x   1 root root 4096 Oct 25 16:51 bin\n",
            "drwxr-xr-x   2 root root 4096 Apr 24  2018 boot\n",
            "drwxr-xr-x   1 root root 4096 Nov  9 04:17 content\n",
            "drwxr-xr-x   1 root root 4096 Nov  6 16:52 datalab\n",
            "drwxr-xr-x   5 root root  440 Nov  9 03:56 dev\n",
            "drwxr-xr-x   1 root root 4096 Nov  9 03:56 etc\n",
            "drwxr-xr-x   2 root root 4096 Apr 24  2018 home\n",
            "drwxr-xr-x   1 root root 4096 Oct 25 16:53 lib\n",
            "drwxr-xr-x   2 root root 4096 Oct 25 16:44 lib32\n",
            "drwxr-xr-x   2 root root 4096 Aug  7 13:03 lib64\n",
            "drwxr-xr-x   2 root root 4096 Aug  7 13:02 media\n",
            "drwxr-xr-x   2 root root 4096 Aug  7 13:02 mnt\n",
            "drwxr-xr-x   1 root root 4096 Nov  9 03:56 opt\n",
            "dr-xr-xr-x 124 root root    0 Nov  9 03:56 proc\n",
            "drwx------   1 root root 4096 Nov  9 04:17 root\n",
            "drwxr-xr-x   1 root root 4096 Oct 25 16:51 run\n",
            "drwxr-xr-x   1 root root 4096 Oct 25 16:52 sbin\n",
            "drwxr-xr-x   2 root root 4096 Aug  7 13:02 srv\n",
            "drwxr-xr-x   4 root root 4096 Nov  6 16:51 swift\n",
            "dr-xr-xr-x  12 root root    0 Nov  9 04:14 sys\n",
            "drwxr-xr-x   1 root root 4096 Nov  6 16:47 tensorflow-2.0.0\n",
            "drwxrwxrwt   1 root root 4096 Nov  9 04:17 tmp\n",
            "drwxr-xr-x   1 root root 4096 Nov  6 16:52 tools\n",
            "drwxr-xr-x   1 root root 4096 Nov  9 03:56 usr\n",
            "drwxr-xr-x   1 root root 4096 Nov  9 03:56 var\n"
          ],
          "name": "stdout"
        }
      ]
    },
    {
      "cell_type": "code",
      "metadata": {
        "id": "zydmUtFqd1-t",
        "outputId": "434b094a-0d54-47a9-d8e0-2e37db494ab9",
        "colab": {
          "base_uri": "https://localhost:8080/",
          "height": 305
        }
      },
      "source": [
        "!cat /etc/*release"
      ],
      "execution_count": null,
      "outputs": [
        {
          "output_type": "stream",
          "text": [
            "DISTRIB_ID=Ubuntu\n",
            "DISTRIB_RELEASE=18.04\n",
            "DISTRIB_CODENAME=bionic\n",
            "DISTRIB_DESCRIPTION=\"Ubuntu 18.04.3 LTS\"\n",
            "NAME=\"Ubuntu\"\n",
            "VERSION=\"18.04.3 LTS (Bionic Beaver)\"\n",
            "ID=ubuntu\n",
            "ID_LIKE=debian\n",
            "PRETTY_NAME=\"Ubuntu 18.04.3 LTS\"\n",
            "VERSION_ID=\"18.04\"\n",
            "HOME_URL=\"https://www.ubuntu.com/\"\n",
            "SUPPORT_URL=\"https://help.ubuntu.com/\"\n",
            "BUG_REPORT_URL=\"https://bugs.launchpad.net/ubuntu/\"\n",
            "PRIVACY_POLICY_URL=\"https://www.ubuntu.com/legal/terms-and-policies/privacy-policy\"\n",
            "VERSION_CODENAME=bionic\n",
            "UBUNTU_CODENAME=bionic\n"
          ],
          "name": "stdout"
        }
      ]
    },
    {
      "cell_type": "markdown",
      "metadata": {
        "id": "XKhoD7iT5z8J"
      },
      "source": [
        "# GPU Details\n",
        "\n",
        "The GPU details can be accessed by `!nvidia-smi`."
      ]
    },
    {
      "cell_type": "code",
      "metadata": {
        "id": "rZIfeoVWgLjc",
        "outputId": "adb25fa1-09a2-4cd5-bc22-f08c3e564d44",
        "colab": {
          "base_uri": "https://localhost:8080/",
          "height": 323
        }
      },
      "source": [
        "!nvidia-smi"
      ],
      "execution_count": null,
      "outputs": [
        {
          "output_type": "stream",
          "text": [
            "Sat Nov  9 05:25:53 2019       \n",
            "+-----------------------------------------------------------------------------+\n",
            "| NVIDIA-SMI 430.50       Driver Version: 418.67       CUDA Version: 10.1     |\n",
            "|-------------------------------+----------------------+----------------------+\n",
            "| GPU  Name        Persistence-M| Bus-Id        Disp.A | Volatile Uncorr. ECC |\n",
            "| Fan  Temp  Perf  Pwr:Usage/Cap|         Memory-Usage | GPU-Util  Compute M. |\n",
            "|===============================+======================+======================|\n",
            "|   0  Tesla T4            Off  | 00000000:00:04.0 Off |                    0 |\n",
            "| N/A   37C    P8     9W /  70W |      0MiB / 15079MiB |      0%      Default |\n",
            "+-------------------------------+----------------------+----------------------+\n",
            "                                                                               \n",
            "+-----------------------------------------------------------------------------+\n",
            "| Processes:                                                       GPU Memory |\n",
            "|  GPU       PID   Type   Process name                             Usage      |\n",
            "|=============================================================================|\n",
            "|  No running processes found                                                 |\n",
            "+-----------------------------------------------------------------------------+\n"
          ],
          "name": "stdout"
        }
      ]
    },
    {
      "cell_type": "markdown",
      "metadata": {
        "id": "z5FZ_n_ieQfV"
      },
      "source": [
        "# Ubuntu 18.04.3 LTS and drivers\n",
        "\n",
        "Now that, as you are using ubuntu, you can use any command that you use from GNU terminal. This makes life very simple.\n",
        "\n",
        "However, for your project you have have to find a way to transfer/download your data files here in this VM. The easiest way is to mound your google drive here in this VM and use git for version control of your codes.\n",
        "\n",
        "Another easiest way is to get your file is to use `wget` from a file server or dropbox.\n",
        "\n"
      ]
    },
    {
      "cell_type": "markdown",
      "metadata": {
        "id": "l37pADFurT60"
      },
      "source": [
        "To install a python package with pip use following.\n",
        "You can also use `apt-get` to install any package in ubuntu."
      ]
    },
    {
      "cell_type": "code",
      "metadata": {
        "id": "_BVV-cvYfTi8",
        "outputId": "7e31c241-4bd7-47b6-e0f6-aded20587ade",
        "colab": {
          "base_uri": "https://localhost:8080/",
          "height": 415
        }
      },
      "source": [
        "!pip install gpustat\n",
        "!pip install fairseq\n",
        "!apt-get install build-essential"
      ],
      "execution_count": null,
      "outputs": [
        {
          "output_type": "stream",
          "text": [
            "Requirement already satisfied: gpustat in /usr/local/lib/python3.6/dist-packages (0.6.0)\n",
            "Requirement already satisfied: six>=1.7 in /usr/local/lib/python3.6/dist-packages (from gpustat) (1.12.0)\n",
            "Requirement already satisfied: psutil in /usr/local/lib/python3.6/dist-packages (from gpustat) (5.4.8)\n",
            "Requirement already satisfied: nvidia-ml-py3>=7.352.0 in /usr/local/lib/python3.6/dist-packages (from gpustat) (7.352.0)\n",
            "Requirement already satisfied: blessings>=1.6 in /usr/local/lib/python3.6/dist-packages (from gpustat) (1.7)\n",
            "Requirement already satisfied: fairseq in /usr/local/lib/python3.6/dist-packages (0.8.0)\n",
            "Requirement already satisfied: numpy in /usr/local/lib/python3.6/dist-packages (from fairseq) (1.17.3)\n",
            "Requirement already satisfied: cffi in /usr/local/lib/python3.6/dist-packages (from fairseq) (1.13.1)\n",
            "Requirement already satisfied: sacrebleu in /usr/local/lib/python3.6/dist-packages (from fairseq) (1.4.2)\n",
            "Requirement already satisfied: fastBPE in /usr/local/lib/python3.6/dist-packages (from fairseq) (0.1.0)\n",
            "Requirement already satisfied: torch in /usr/local/lib/python3.6/dist-packages (from fairseq) (1.3.0+cu100)\n",
            "Requirement already satisfied: regex in /usr/local/lib/python3.6/dist-packages (from fairseq) (2019.11.1)\n",
            "Requirement already satisfied: tqdm in /usr/local/lib/python3.6/dist-packages (from fairseq) (4.28.1)\n",
            "Requirement already satisfied: pycparser in /usr/local/lib/python3.6/dist-packages (from cffi->fairseq) (2.19)\n",
            "Requirement already satisfied: portalocker in /usr/local/lib/python3.6/dist-packages (from sacrebleu->fairseq) (1.5.1)\n",
            "Requirement already satisfied: typing in /usr/local/lib/python3.6/dist-packages (from sacrebleu->fairseq) (3.6.6)\n",
            "Reading package lists... Done\n",
            "Building dependency tree       \n",
            "Reading state information... Done\n",
            "build-essential is already the newest version (12.4ubuntu1).\n",
            "0 upgraded, 0 newly installed, 0 to remove and 35 not upgraded.\n"
          ],
          "name": "stdout"
        }
      ]
    },
    {
      "cell_type": "code",
      "metadata": {
        "id": "eOjNVCFy6F6T",
        "outputId": "1cd1645d-5f5f-46bc-d76c-f69cdfe2c569",
        "colab": {
          "base_uri": "https://localhost:8080/",
          "height": 53
        }
      },
      "source": [
        "!gpustat"
      ],
      "execution_count": null,
      "outputs": [
        {
          "output_type": "stream",
          "text": [
            "\u001b[1m\u001b[37m25193fa42234       \u001b[m  Sat Nov  9 05:27:08 2019  \u001b[1m\u001b[30m418.67\u001b[m\n",
            "\u001b[36m[0]\u001b[m \u001b[34mTesla T4        \u001b[m |\u001b[31m 36'C\u001b[m, \u001b[32m  0 %\u001b[m | \u001b[36m\u001b[1m\u001b[33m    0\u001b[m / \u001b[33m15079\u001b[m MB |\n"
          ],
          "name": "stdout"
        }
      ]
    },
    {
      "cell_type": "markdown",
      "metadata": {
        "id": "rL3vV06CsTbU"
      },
      "source": [
        "\n",
        "Please check the nvidia driver version (see the output of `!nvidia-smi` above), cuda version in current OS. Because not all version support the latest cuda, cudnn etc. Deep learning libraries are changing at a rapid pace. So make sure that you can install your preferred deep learning library with the current nvidia-driver, cuda and cudnn."
      ]
    },
    {
      "cell_type": "code",
      "metadata": {
        "id": "BRqElCWbsSVj",
        "outputId": "8a675e0b-f420-451e-83e1-1739cb92de1d",
        "colab": {
          "base_uri": "https://localhost:8080/",
          "height": 71
        }
      },
      "source": [
        "from platform import python_version\n",
        "import torch\n",
        "print(\"Python version\", python_version())\n",
        "print(\"Pytorch - version\", torch.__version__)\n",
        "print(\"Pytorch - cuDNN version :\", torch.backends.cudnn.version())"
      ],
      "execution_count": null,
      "outputs": [
        {
          "output_type": "stream",
          "text": [
            "Python version 3.6.8\n",
            "Pytorch - version 1.3.0+cu100\n",
            "Pytorch - cuDNN version : 7603\n"
          ],
          "name": "stdout"
        }
      ]
    },
    {
      "cell_type": "markdown",
      "metadata": {
        "id": "rhqwIRcxu2qC"
      },
      "source": [
        "# Data uploading to VM\n",
        "1. From Machine  -- explore the built in left panel of google colab\n",
        "2. From google drive -- explore the built in  left panel  of google colab\n",
        "3. with wget\n"
      ]
    },
    {
      "cell_type": "code",
      "metadata": {
        "id": "WqwWJnUOuhRU",
        "outputId": "25568036-72c7-47b5-853c-70dacaae98a1",
        "colab": {
          "base_uri": "https://localhost:8080/",
          "height": 55
        }
      },
      "source": [
        "from google.colab import drive\n",
        "drive.mount('/content/drive')"
      ],
      "execution_count": null,
      "outputs": [
        {
          "output_type": "stream",
          "text": [
            "Drive already mounted at /content/drive; to attempt to forcibly remount, call drive.mount(\"/content/drive\", force_remount=True).\n"
          ],
          "name": "stdout"
        }
      ]
    },
    {
      "cell_type": "code",
      "metadata": {
        "id": "4TNUjRALvP7B",
        "outputId": "3592b553-e2a7-4ade-c5d6-e5f717ae350d",
        "colab": {
          "base_uri": "https://localhost:8080/",
          "height": 35
        }
      },
      "source": [
        "!pwd"
      ],
      "execution_count": null,
      "outputs": [
        {
          "output_type": "stream",
          "text": [
            "/content\n"
          ],
          "name": "stdout"
        }
      ]
    },
    {
      "cell_type": "code",
      "metadata": {
        "id": "ubh7nOJevUgp",
        "outputId": "3fef4871-1376-4835-db0c-46fb2195c060",
        "colab": {
          "base_uri": "https://localhost:8080/",
          "height": 235
        }
      },
      "source": [
        "!wget  https://dl.fbaipublicfiles.com/XLM/codes_xnli_100"
      ],
      "execution_count": null,
      "outputs": [
        {
          "output_type": "stream",
          "text": [
            "--2019-11-09 05:28:50--  https://dl.fbaipublicfiles.com/XLM/codes_xnli_100\n",
            "Resolving dl.fbaipublicfiles.com (dl.fbaipublicfiles.com)... 104.20.6.166, 104.20.22.166, 2606:4700:10::6814:6a6, ...\n",
            "Connecting to dl.fbaipublicfiles.com (dl.fbaipublicfiles.com)|104.20.6.166|:443... connected.\n",
            "HTTP request sent, awaiting response... 200 OK\n",
            "Length: 2973279 (2.8M) [text/plain]\n",
            "Saving to: ‘codes_xnli_100.1’\n",
            "\n",
            "codes_xnli_100.1    100%[===================>]   2.83M  2.74MB/s    in 1.0s    \n",
            "\n",
            "2019-11-09 05:28:52 (2.74 MB/s) - ‘codes_xnli_100.1’ saved [2973279/2973279]\n",
            "\n"
          ],
          "name": "stdout"
        }
      ]
    },
    {
      "cell_type": "code",
      "metadata": {
        "id": "Z0AJKQOiyKnJ",
        "outputId": "f0587ff5-c35a-45f5-dbde-702fd2e858ee",
        "colab": {
          "base_uri": "https://localhost:8080/",
          "height": 107
        }
      },
      "source": [
        "!ls -l"
      ],
      "execution_count": null,
      "outputs": [
        {
          "output_type": "stream",
          "text": [
            "total 5816\n",
            "-rw-r--r-- 1 root root 2973279 Aug 18 02:44 codes_xnli_100\n",
            "-rw-r--r-- 1 root root 2973279 Aug 18 02:44 codes_xnli_100.1\n",
            "drwx------ 3 root root    4096 Nov  9 04:17 drive\n",
            "drwxr-xr-x 1 root root    4096 Nov  6 16:17 sample_data\n"
          ],
          "name": "stdout"
        }
      ]
    },
    {
      "cell_type": "code",
      "metadata": {
        "id": "VGMuEvUqyQeX",
        "outputId": "0cb98d97-a7d6-4894-c811-165bcf26d903",
        "colab": {
          "base_uri": "https://localhost:8080/",
          "height": 197
        }
      },
      "source": [
        "!head -n 10 codes_xnli_100"
      ],
      "execution_count": null,
      "outputs": [
        {
          "output_type": "stream",
          "text": [
            "a n 58300410\n",
            "e r 55874871\n",
            "e n 48332651\n",
            "i n 46367809\n",
            "a r 42047014\n",
            "s t 41963553\n",
            "a l 34495577\n",
            "e n</w> 33743928\n",
            "o n 30604783\n",
            "o r 30086868\n"
          ],
          "name": "stdout"
        }
      ]
    },
    {
      "cell_type": "code",
      "metadata": {
        "id": "F_cW4rmg20Wu",
        "outputId": "d6c15761-1f45-439b-defe-7f073dca0031",
        "colab": {
          "base_uri": "https://localhost:8080/",
          "height": 35
        }
      },
      "source": [
        "!git clone https://github.com/ntunlp/MH6812-SPMS-2019"
      ],
      "execution_count": null,
      "outputs": [
        {
          "output_type": "stream",
          "text": [
            "fatal: destination path 'MH6812-SPMS-2019' already exists and is not an empty directory.\n"
          ],
          "name": "stdout"
        }
      ]
    },
    {
      "cell_type": "code",
      "metadata": {
        "id": "7ZEIBbCj3Gqe",
        "outputId": "42cff5ec-c3ef-42a3-c3fb-5acb898aad49",
        "colab": {
          "base_uri": "https://localhost:8080/",
          "height": 53
        }
      },
      "source": [
        "!ls -l CE-7455-SPMS-2019"
      ],
      "execution_count": null,
      "outputs": [
        {
          "output_type": "stream",
          "text": [
            "total 4\n",
            "-rw-r--r-- 1 root root 42 Nov  5 18:55 README.md\n"
          ],
          "name": "stdout"
        }
      ]
    },
    {
      "cell_type": "markdown",
      "metadata": {
        "id": "4pA2fSmgwMxr"
      },
      "source": [
        "## Getting Started\n",
        "\n",
        "The document you are reading is a  [Jupyter notebook](https://jupyter.org/), hosted in Colaboratory. It is not a static page, but an interactive environment that lets you write and execute code in Python and other languages.\n",
        "\n",
        "For example, here is a **code cell** with a short Python script that computes a value, stores it in a variable, and prints the result:"
      ]
    },
    {
      "cell_type": "code",
      "metadata": {
        "id": "zB0Ue-JuwPIM",
        "outputId": "696c4bb8-02fa-4e45-e68d-2f0c274181ec",
        "colab": {
          "base_uri": "https://localhost:8080/",
          "height": 35
        }
      },
      "source": [
        "seconds_in_a_day = 24 * 60 * 60\n",
        "seconds_in_a_day"
      ],
      "execution_count": null,
      "outputs": [
        {
          "output_type": "execute_result",
          "data": {
            "text/plain": [
              "86400"
            ]
          },
          "metadata": {
            "tags": []
          },
          "execution_count": 96
        }
      ]
    },
    {
      "cell_type": "code",
      "metadata": {
        "id": "MDfdEdl7Ylg6",
        "colab": {
          "base_uri": "https://localhost:8080/",
          "height": 35
        },
        "outputId": "cbf06a07-6faa-4366-ef56-004c79c6a7e3"
      },
      "source": [
        "var = 1\n",
        "name = 'NTU'\n",
        "print(name)"
      ],
      "execution_count": null,
      "outputs": [
        {
          "output_type": "stream",
          "text": [
            "NTU\n"
          ],
          "name": "stdout"
        }
      ]
    },
    {
      "cell_type": "markdown",
      "metadata": {
        "id": "SsH659SayfJ4"
      },
      "source": [
        "To execute the code in the above cell, select it with a click and then either press the play button to the left of the code, or use the keyboard shortcut \"Command/Ctrl+Enter\".\n",
        "\n",
        "All cells modify the same global state, so variables that you define by executing a cell can be used in other cells:"
      ]
    },
    {
      "cell_type": "code",
      "metadata": {
        "id": "bviL6WmpwUk6",
        "outputId": "e18e51db-aaf1-4695-f380-5057bd39e00d",
        "colab": {
          "base_uri": "https://localhost:8080/",
          "height": 35
        }
      },
      "source": [
        "seconds_in_a_week = 7 * seconds_in_a_day\n",
        "seconds_in_a_week"
      ],
      "execution_count": null,
      "outputs": [
        {
          "output_type": "execute_result",
          "data": {
            "text/plain": [
              "604800"
            ]
          },
          "metadata": {
            "tags": []
          },
          "execution_count": 102
        }
      ]
    },
    {
      "cell_type": "markdown",
      "metadata": {
        "id": "7sC1fIAAyisY"
      },
      "source": [
        "For more information about working with Colaboratory notebooks, see [Overview of Colaboratory](/notebooks/basic_features_overview.ipynb).\n"
      ]
    },
    {
      "cell_type": "markdown",
      "metadata": {
        "id": "u1wdmFKqylSI"
      },
      "source": [
        "# Important Resources\n",
        "\n",
        "Learn how to make the most of Python, Jupyter, Colaboratory, and related tools with these resources:\n",
        "\n",
        "### Working with Notebooks in Colaboratory\n",
        "- [Overview of Colaboratory](/notebooks/basic_features_overview.ipynb)  \n",
        "- [Guide to Markdown](/notebooks/markdown_guide.ipynb)\n",
        "- [Importing libraries and installing dependencies](/notebooks/snippets/importing_libraries.ipynb)\n",
        "- [Saving and loading notebooks in GitHub](https://colab.research.google.com/github/googlecolab/colabtools/blob/master/notebooks/colab-github-demo.ipynb)\n"
      ]
    },
    {
      "cell_type": "markdown",
      "metadata": {
        "id": "y--_94WozIka"
      },
      "source": [
        "# Additional Content\n",
        "- [Interactive forms](/notebooks/forms.ipynb)\n",
        "- [Interactive widgets](/notebooks/widgets.ipynb)\n",
        "- <img src=\"/img/new.png\" height=\"20px\" align=\"left\" hspace=\"4px\" alt=\"New\"></img>\n",
        " [TensorFlow 2 in Colab](/notebooks/tensorflow_version.ipynb)\n",
        "\n",
        "### Working with Data\n",
        "- [Loading data: Drive, Sheets, and Google Cloud Storage](/notebooks/io.ipynb)\n",
        "- [Charts: visualizing data](/notebooks/charts.ipynb)\n",
        "- [Getting started with BigQuery](/notebooks/bigquery.ipynb)\n",
        "\n",
        "### Machine Learning Crash Course\n",
        "These are a few of the notebooks from Google's online Machine Learning course. See the [full course website](https://developers.google.com/machine-learning/crash-course/) for more.\n",
        "- [Intro to Pandas](/notebooks/mlcc/intro_to_pandas.ipynb)\n",
        "- [Tensorflow concepts](/notebooks/mlcc/tensorflow_programming_concepts.ipynb)\n",
        "- [First steps with TensorFlow](/notebooks/mlcc/first_steps_with_tensor_flow.ipynb)\n",
        "- [Intro to neural nets](/notebooks/mlcc/intro_to_neural_nets.ipynb)\n",
        "- [Intro to sparse data and embeddings](/notebooks/mlcc/intro_to_sparse_data_and_embeddings.ipynb)\n",
        "\n",
        "### Using Accelerated Hardware\n",
        "- [TensorFlow with GPUs](/notebooks/gpu.ipynb)\n",
        "- [TensorFlow with TPUs](/notebooks/tpu.ipynb)"
      ]
    },
    {
      "cell_type": "code",
      "metadata": {
        "id": "7aH1A-IwzLyX"
      },
      "source": [],
      "execution_count": null,
      "outputs": []
    }
  ]
}