{
  "nbformat": 4,
  "nbformat_minor": 0,
  "metadata": {
    "colab": {
      "provenance": [],
      "include_colab_link": true
    },
    "kernelspec": {
      "name": "python3",
      "display_name": "Python 3"
    },
    "language_info": {
      "name": "python"
    }
  },
  "cells": [
    {
      "cell_type": "markdown",
      "metadata": {
        "id": "view-in-github",
        "colab_type": "text"
      },
      "source": [
        "<a href=\"https://colab.research.google.com/github/stwater20/AIS3-2024-Material/blob/main/AIS3_Lab6_Malware_API_Sequence_Using_LSTM.ipynb\" target=\"_parent\"><img src=\"https://colab.research.google.com/assets/colab-badge.svg\" alt=\"Open In Colab\"/></a>"
      ]
    },
    {
      "cell_type": "code",
      "source": [
        "!ls -al"
      ],
      "metadata": {
        "colab": {
          "base_uri": "https://localhost:8080/"
        },
        "id": "23zKxUxx9SJs",
        "outputId": "ace6b160-adce-4cca-ef66-0d6b633f0dcd"
      },
      "execution_count": null,
      "outputs": [
        {
          "output_type": "stream",
          "name": "stdout",
          "text": [
            "total 159744\n",
            "drwxr-xr-x 1 root root      4096 Jul 25 08:20 .\n",
            "drwxr-xr-x 1 root root      4096 Jul 25 08:18 ..\n",
            "drwxr-xr-x 4 root root      4096 Jul 23 13:21 .config\n",
            "-rw-r--r-- 1 root root 160032752 Oct 28  2021 data_demo.npz\n",
            "-rw-r--r-- 1 root root   3525445 Jul 25 08:20 data_demo.zip\n",
            "drwxr-xr-x 1 root root      4096 Jul 23 13:21 sample_data\n"
          ]
        }
      ]
    },
    {
      "cell_type": "code",
      "source": [
        "!unzip data_demo.zip"
      ],
      "metadata": {
        "colab": {
          "base_uri": "https://localhost:8080/"
        },
        "id": "adBQfWjO8f3D",
        "outputId": "d8c6060a-08da-4d66-c3cf-a54089a6a4b0"
      },
      "execution_count": null,
      "outputs": [
        {
          "output_type": "stream",
          "name": "stdout",
          "text": [
            "Archive:  data_demo.zip\n",
            "  inflating: data_demo.npz           \n"
          ]
        }
      ]
    },
    {
      "cell_type": "code",
      "source": [
        "import numpy as np\n",
        "\n",
        "# 讀取 npz 檔案\n",
        "data = np.load('data_demo.npz')\n",
        "\n",
        "# 列出檔案中所有的陣列\n",
        "print(list(data.keys()))"
      ],
      "metadata": {
        "colab": {
          "base_uri": "https://localhost:8080/"
        },
        "id": "1SyJA6HnAtn_",
        "outputId": "f3659293-5009-43eb-d8ba-fabeaef9d0ed"
      },
      "execution_count": null,
      "outputs": [
        {
          "output_type": "stream",
          "name": "stdout",
          "text": [
            "['x_name', 'x_semantic', 'y']\n"
          ]
        }
      ]
    },
    {
      "cell_type": "code",
      "source": [
        "data['x_name']"
      ],
      "metadata": {
        "colab": {
          "base_uri": "https://localhost:8080/"
        },
        "id": "Qg1lBzgKITNl",
        "outputId": "b4485abe-44b3-4d94-ea8e-d869d03e1bd8"
      },
      "execution_count": null,
      "outputs": [
        {
          "output_type": "execute_result",
          "data": {
            "text/plain": [
              "array([[  1,   4,  59, ...,   0,   0,   0],\n",
              "       [ 10,  11,  10, ...,   0,   0,   0],\n",
              "       [  1,   4,  59, ...,   0,   0,   0],\n",
              "       ...,\n",
              "       [123, 253, 253, ...,   0,   0,   0],\n",
              "       [ 15,   3,   3, ...,  27,  27,  27],\n",
              "       [  1,  10,  11, ...,   9,  76,  52]])"
            ]
          },
          "metadata": {},
          "execution_count": 3
        }
      ]
    },
    {
      "cell_type": "code",
      "source": [
        "len(data['x_name'][0]) # 每個軟體有 1000 個 API 序列"
      ],
      "metadata": {
        "colab": {
          "base_uri": "https://localhost:8080/"
        },
        "id": "LTeRB3H7A0a3",
        "outputId": "51b5ca73-5053-46d7-dca8-d3f50cf1f102"
      },
      "execution_count": null,
      "outputs": [
        {
          "output_type": "execute_result",
          "data": {
            "text/plain": [
              "1000"
            ]
          },
          "metadata": {},
          "execution_count": 4
        }
      ]
    },
    {
      "cell_type": "code",
      "source": [
        "data['x_semantic']"
      ],
      "metadata": {
        "colab": {
          "base_uri": "https://localhost:8080/"
        },
        "id": "-nZKC1HLIVw3",
        "outputId": "359f113c-d9cc-4a77-9c2b-69d41964b991"
      },
      "execution_count": null,
      "outputs": [
        {
          "output_type": "execute_result",
          "data": {
            "text/plain": [
              "array([[  4, 101,  21, ...,  14,  14,  14],\n",
              "       [  0,  25, 255, ...,  14,  14,  14],\n",
              "       [  4, 101,  21, ...,  14,  14,  14],\n",
              "       ...,\n",
              "       [  0,   1, 163, ...,  14,  14,  14],\n",
              "       [  0,   5,  61, ...,  14,  32,  33],\n",
              "       [  4, 101,  21, ...,   5,  79,  80]])"
            ]
          },
          "metadata": {},
          "execution_count": 5
        }
      ]
    },
    {
      "cell_type": "code",
      "source": [
        "len(data['x_semantic'][0])"
      ],
      "metadata": {
        "colab": {
          "base_uri": "https://localhost:8080/"
        },
        "id": "uT_uuMSHA1-4",
        "outputId": "d7af6190-760d-436f-cb58-926322f6d733"
      },
      "execution_count": null,
      "outputs": [
        {
          "output_type": "execute_result",
          "data": {
            "text/plain": [
              "4000"
            ]
          },
          "metadata": {},
          "execution_count": 6
        }
      ]
    },
    {
      "cell_type": "code",
      "source": [
        "data['y'],len(data['y'])"
      ],
      "metadata": {
        "colab": {
          "base_uri": "https://localhost:8080/"
        },
        "id": "IcK2MXSfA4bC",
        "outputId": "8fb411f4-44b4-4bb7-b208-8f33fd9ba5f2"
      },
      "execution_count": null,
      "outputs": [
        {
          "output_type": "execute_result",
          "data": {
            "text/plain": [
              "(array([[0],\n",
              "        [0],\n",
              "        [0],\n",
              "        ...,\n",
              "        [1],\n",
              "        [1],\n",
              "        [1]]),\n",
              " 4000)"
            ]
          },
          "metadata": {},
          "execution_count": 10
        }
      ]
    },
    {
      "cell_type": "code",
      "source": [
        "flat_list = [item for sublist in data['y'].tolist() for item in sublist]"
      ],
      "metadata": {
        "id": "_PlDtp0dFbwA"
      },
      "execution_count": null,
      "outputs": []
    },
    {
      "cell_type": "code",
      "source": [
        "from collections import Counter\n",
        "Counter(flat_list)"
      ],
      "metadata": {
        "colab": {
          "base_uri": "https://localhost:8080/"
        },
        "id": "M5v1AxMrEdR_",
        "outputId": "390e5d49-a46a-49c2-f7ff-efd8a438e50d"
      },
      "execution_count": null,
      "outputs": [
        {
          "output_type": "execute_result",
          "data": {
            "text/plain": [
              "Counter({0: 2000, 1: 2000})"
            ]
          },
          "metadata": {},
          "execution_count": 32
        }
      ]
    },
    {
      "cell_type": "code",
      "source": [
        "import torch\n",
        "from torch.utils.data import DataLoader, TensorDataset\n",
        "import torch.optim as optim\n",
        "import torch.nn.functional as F\n",
        "from torch.nn import Embedding, LSTM, Linear, BCELoss\n",
        "from sklearn.metrics import f1_score, precision_score, recall_score\n",
        "import numpy as np\n",
        "import warnings\n",
        "\n",
        "warnings.filterwarnings(\"ignore\")\n",
        "\n",
        "class LSTMNet(torch.nn.Module):\n",
        "    def __init__(self):\n",
        "        super(LSTMNet, self).__init__()\n",
        "        self.embedder = Embedding(num_embeddings=316, embedding_dim=16)\n",
        "        self.lstm = LSTM(input_size=16, hidden_size=100, bidirectional=True, batch_first=True)\n",
        "        self.lin1 = Linear(200, 64)\n",
        "        self.lin2 = Linear(64, 1)\n",
        "\n",
        "    def forward(self, x):\n",
        "        x = self.embedder(x)\n",
        "        x, (h_n, c_n) = self.lstm(x)\n",
        "        x = torch.cat((h_n[-2,:,:], h_n[-1,:,:]), dim=1)\n",
        "        x = F.relu(self.lin1(x))\n",
        "        x = torch.sigmoid(self.lin2(x))\n",
        "        return x\n",
        "\n",
        "def test(model, device, test_loader):\n",
        "    model.eval()\n",
        "    all_preds = []\n",
        "    all_targets = []\n",
        "    with torch.no_grad():\n",
        "        for data, target in test_loader:\n",
        "            data, target = data.to(device), target.to(device)\n",
        "            output = model(data)\n",
        "            preds = output.round()\n",
        "            all_preds.extend(preds.view(-1).cpu().numpy())\n",
        "            all_targets.extend(target.cpu().numpy())\n",
        "\n",
        "    # Calculate metrics\n",
        "    precision = precision_score(all_targets, all_preds)\n",
        "    recall = recall_score(all_targets, all_preds)\n",
        "    f1 = f1_score(all_targets, all_preds)\n",
        "\n",
        "    return precision, recall, f1\n",
        "\n",
        "\n",
        "data = np.load('./data_demo.npz')\n",
        "train_x_name = data['x_name']\n",
        "train_y = data['y']\n",
        "test_x_name = data['x_name']\n",
        "test_y = data['y']\n",
        "\n",
        "train_xt = torch.from_numpy(train_x_name).long()\n",
        "test_xt = torch.from_numpy(test_x_name).long()\n",
        "train_yt = torch.from_numpy(train_y.astype(np.float32))\n",
        "test_yt = torch.from_numpy(test_y.astype(np.float32))\n",
        "\n",
        "train_data = TensorDataset(train_xt, train_yt)\n",
        "test_data = TensorDataset(test_xt, test_yt)\n",
        "\n",
        "train_loader = DataLoader(dataset=train_data, batch_size=128, shuffle=True, num_workers=1)\n",
        "test_loader = DataLoader(dataset=test_data, batch_size=128, num_workers=1)\n",
        "\n",
        "device = torch.device('cuda' if torch.cuda.is_available() else 'cpu')\n",
        "model = LSTMNet().to(device)\n",
        "optimizer = optim.Adam(model.parameters(), lr=0.01)\n",
        "\n",
        "# Training loop\n",
        "for epoch in range(1, 11):  # 10 epochs\n",
        "    model.train()\n",
        "    total_loss = 0\n",
        "    for data, target in train_loader:\n",
        "        data, target = data.to(device), target.to(device)\n",
        "        optimizer.zero_grad()\n",
        "        output = model(data)\n",
        "        if target.dim() == 1:\n",
        "            target = target.unsqueeze(1)  # target 現在應該是 [batch_size, 1]\n",
        "        loss = BCELoss()(output, target)\n",
        "        loss.backward()\n",
        "        optimizer.step()\n",
        "        total_loss += loss.item()\n",
        "    print(f'Epoch {epoch}, Train Loss: {total_loss / len(train_loader)}')\n",
        "\n",
        "\n",
        "\n",
        "# Test\n",
        "precision, recall, f1 = test(model, device, test_loader)\n",
        "print(f'Test Precision: {precision:.4f}, Test Recall: {recall:.4f}, Test F1: {f1:.4f}')\n"
      ],
      "metadata": {
        "colab": {
          "base_uri": "https://localhost:8080/"
        },
        "id": "Vv-5Y74OBQzE",
        "outputId": "e31ca674-9de2-44bf-a4f5-939833b7a020"
      },
      "execution_count": null,
      "outputs": [
        {
          "output_type": "stream",
          "name": "stdout",
          "text": [
            "Epoch 1, Train Loss: 0.49372848123311996\n",
            "Epoch 2, Train Loss: 0.35968773625791073\n",
            "Epoch 3, Train Loss: 0.35932787135243416\n",
            "Epoch 4, Train Loss: 0.3494661985896528\n",
            "Epoch 5, Train Loss: 0.39521539211273193\n",
            "Epoch 6, Train Loss: 0.32728859363123775\n",
            "Epoch 7, Train Loss: 0.2686572172679007\n",
            "Epoch 8, Train Loss: 0.2746171588078141\n",
            "Epoch 9, Train Loss: 0.23142848117277026\n",
            "Epoch 10, Train Loss: 0.20562454778701067\n",
            "Test Precision: 0.9007, Test Recall: 0.9430, Test F1: 0.9213\n"
          ]
        }
      ]
    },
    {
      "cell_type": "code",
      "source": [],
      "metadata": {
        "id": "XnBxZloXCOG4"
      },
      "execution_count": null,
      "outputs": []
    }
  ]
}