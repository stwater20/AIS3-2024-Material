{
  "nbformat": 4,
  "nbformat_minor": 0,
  "metadata": {
    "colab": {
      "provenance": [],
      "include_colab_link": true
    },
    "kernelspec": {
      "name": "python3",
      "display_name": "Python 3"
    },
    "language_info": {
      "name": "python"
    }
  },
  "cells": [
    {
      "cell_type": "markdown",
      "metadata": {
        "id": "view-in-github",
        "colab_type": "text"
      },
      "source": [
        "<a href=\"https://colab.research.google.com/github/stwater20/AIS3-2024-Material/blob/main/AIS3_Lab6_Malware_API_Sequence_Using_LSTM.ipynb\" target=\"_parent\"><img src=\"https://colab.research.google.com/assets/colab-badge.svg\" alt=\"Open In Colab\"/></a>"
      ]
    },
    {
      "cell_type": "code",
      "source": [
        "!ls -al"
      ],
      "metadata": {
        "colab": {
          "base_uri": "https://localhost:8080/"
        },
        "id": "23zKxUxx9SJs",
        "outputId": "ace6b160-adce-4cca-ef66-0d6b633f0dcd"
      },
      "execution_count": null,
      "outputs": [
        {
          "output_type": "stream",
          "name": "stdout",
          "text": [
            "total 159744\n",
            "drwxr-xr-x 1 root root      4096 Jul 25 08:20 .\n",
            "drwxr-xr-x 1 root root      4096 Jul 25 08:18 ..\n",
            "drwxr-xr-x 4 root root      4096 Jul 23 13:21 .config\n",
            "-rw-r--r-- 1 root root 160032752 Oct 28  2021 data_demo.npz\n",
            "-rw-r--r-- 1 root root   3525445 Jul 25 08:20 data_demo.zip\n",
            "drwxr-xr-x 1 root root      4096 Jul 23 13:21 sample_data\n"
          ]
        }
      ]
    },
    {
      "cell_type": "code",
      "source": [
        "!unzip data_demo.zip"
      ],
      "metadata": {
        "colab": {
          "base_uri": "https://localhost:8080/"
        },
        "id": "adBQfWjO8f3D",
        "outputId": "d8c6060a-08da-4d66-c3cf-a54089a6a4b0"
      },
      "execution_count": 1,
      "outputs": [
        {
          "output_type": "stream",
          "name": "stdout",
          "text": [
            "Archive:  data_demo.zip\n",
            "  inflating: data_demo.npz           \n"
          ]
        }
      ]
    },
    {
      "cell_type": "code",
      "source": [
        "import numpy as np\n",
        "\n",
        "# 讀取 npz 檔案\n",
        "data = np.load('data_demo.npz')\n",
        "\n",
        "# 列出檔案中所有的陣列\n",
        "print(list(data.keys()))"
      ],
      "metadata": {
        "colab": {
          "base_uri": "https://localhost:8080/"
        },
        "id": "1SyJA6HnAtn_",
        "outputId": "f3659293-5009-43eb-d8ba-fabeaef9d0ed"
      },
      "execution_count": 2,
      "outputs": [
        {
          "output_type": "stream",
          "name": "stdout",
          "text": [
            "['x_name', 'x_semantic', 'y']\n"
          ]
        }
      ]
    },
    {
      "cell_type": "code",
      "source": [
        "data['x_name']"
      ],
      "metadata": {
        "colab": {
          "base_uri": "https://localhost:8080/"
        },
        "id": "Qg1lBzgKITNl",
        "outputId": "b4485abe-44b3-4d94-ea8e-d869d03e1bd8"
      },
      "execution_count": 3,
      "outputs": [
        {
          "output_type": "execute_result",
          "data": {
            "text/plain": [
              "array([[  1,   4,  59, ...,   0,   0,   0],\n",
              "       [ 10,  11,  10, ...,   0,   0,   0],\n",
              "       [  1,   4,  59, ...,   0,   0,   0],\n",
              "       ...,\n",
              "       [123, 253, 253, ...,   0,   0,   0],\n",
              "       [ 15,   3,   3, ...,  27,  27,  27],\n",
              "       [  1,  10,  11, ...,   9,  76,  52]])"
            ]
          },
          "metadata": {},
          "execution_count": 3
        }
      ]
    },
    {
      "cell_type": "code",
      "source": [
        "len(data['x_name'][0]) # 每個軟體有 1000 個 API 序列"
      ],
      "metadata": {
        "colab": {
          "base_uri": "https://localhost:8080/"
        },
        "id": "LTeRB3H7A0a3",
        "outputId": "51b5ca73-5053-46d7-dca8-d3f50cf1f102"
      },
      "execution_count": 4,
      "outputs": [
        {
          "output_type": "execute_result",
          "data": {
            "text/plain": [
              "1000"
            ]
          },
          "metadata": {},
          "execution_count": 4
        }
      ]
    },
    {
      "cell_type": "code",
      "source": [
        "data['x_semantic']"
      ],
      "metadata": {
        "colab": {
          "base_uri": "https://localhost:8080/"
        },
        "id": "-nZKC1HLIVw3",
        "outputId": "359f113c-d9cc-4a77-9c2b-69d41964b991"
      },
      "execution_count": 5,
      "outputs": [
        {
          "output_type": "execute_result",
          "data": {
            "text/plain": [
              "array([[  4, 101,  21, ...,  14,  14,  14],\n",
              "       [  0,  25, 255, ...,  14,  14,  14],\n",
              "       [  4, 101,  21, ...,  14,  14,  14],\n",
              "       ...,\n",
              "       [  0,   1, 163, ...,  14,  14,  14],\n",
              "       [  0,   5,  61, ...,  14,  32,  33],\n",
              "       [  4, 101,  21, ...,   5,  79,  80]])"
            ]
          },
          "metadata": {},
          "execution_count": 5
        }
      ]
    },
    {
      "cell_type": "code",
      "source": [
        "len(data['x_semantic'][0])"
      ],
      "metadata": {
        "colab": {
          "base_uri": "https://localhost:8080/"
        },
        "id": "uT_uuMSHA1-4",
        "outputId": "d7af6190-760d-436f-cb58-926322f6d733"
      },
      "execution_count": 6,
      "outputs": [
        {
          "output_type": "execute_result",
          "data": {
            "text/plain": [
              "4000"
            ]
          },
          "metadata": {},
          "execution_count": 6
        }
      ]
    },
    {
      "cell_type": "code",
      "source": [
        "data['y'],len(data['y'])"
      ],
      "metadata": {
        "colab": {
          "base_uri": "https://localhost:8080/"
        },
        "id": "IcK2MXSfA4bC",
        "outputId": "8fb411f4-44b4-4bb7-b208-8f33fd9ba5f2"
      },
      "execution_count": null,
      "outputs": [
        {
          "output_type": "execute_result",
          "data": {
            "text/plain": [
              "(array([[0],\n",
              "        [0],\n",
              "        [0],\n",
              "        ...,\n",
              "        [1],\n",
              "        [1],\n",
              "        [1]]),\n",
              " 4000)"
            ]
          },
          "metadata": {},
          "execution_count": 10
        }
      ]
    },
    {
      "cell_type": "code",
      "source": [
        "flat_list = [item for sublist in data['y'].tolist() for item in sublist]"
      ],
      "metadata": {
        "id": "_PlDtp0dFbwA"
      },
      "execution_count": null,
      "outputs": []
    },
    {
      "cell_type": "code",
      "source": [
        "from collections import Counter\n",
        "Counter(flat_list)"
      ],
      "metadata": {
        "colab": {
          "base_uri": "https://localhost:8080/"
        },
        "id": "M5v1AxMrEdR_",
        "outputId": "390e5d49-a46a-49c2-f7ff-efd8a438e50d"
      },
      "execution_count": null,
      "outputs": [
        {
          "output_type": "execute_result",
          "data": {
            "text/plain": [
              "Counter({0: 2000, 1: 2000})"
            ]
          },
          "metadata": {},
          "execution_count": 32
        }
      ]
    },
    {
      "cell_type": "code",
      "execution_count": null,
      "metadata": {
        "colab": {
          "base_uri": "https://localhost:8080/"
        },
        "id": "VwKdMNC57YEm",
        "outputId": "63232747-949a-4a9c-e9e6-f81b279088ea"
      },
      "outputs": [
        {
          "output_type": "stream",
          "name": "stdout",
          "text": [
            "device cuda\n"
          ]
        },
        {
          "output_type": "stream",
          "name": "stderr",
          "text": [
            "  2%|▏         | 1/60 [00:12<11:51, 12.06s/it]"
          ]
        },
        {
          "output_type": "stream",
          "name": "stdout",
          "text": [
            "Epoch: 001, Loss: 0.49895, Train Acc: 0.84625, Train Precision: 0.78723, Train Recall: 0.94900, Train F1: 0.86058\n"
          ]
        },
        {
          "output_type": "stream",
          "name": "stderr",
          "text": [
            "\r  3%|▎         | 2/60 [00:21<10:23, 10.75s/it]"
          ]
        },
        {
          "output_type": "stream",
          "name": "stdout",
          "text": [
            "Epoch: 002, Loss: 0.30158, Train Acc: 0.90450, Train Precision: 0.89892, Train Recall: 0.91150, Train F1: 0.90516\n"
          ]
        },
        {
          "output_type": "stream",
          "name": "stderr",
          "text": [
            "\r  5%|▌         | 3/60 [00:31<09:50, 10.35s/it]"
          ]
        },
        {
          "output_type": "stream",
          "name": "stdout",
          "text": [
            "Epoch: 003, Loss: 0.25389, Train Acc: 0.90700, Train Precision: 0.94972, Train Recall: 0.85950, Train F1: 0.90236\n"
          ]
        },
        {
          "output_type": "stream",
          "name": "stderr",
          "text": [
            "\r  7%|▋         | 4/60 [00:41<09:32, 10.22s/it]"
          ]
        },
        {
          "output_type": "stream",
          "name": "stdout",
          "text": [
            "Epoch: 004, Loss: 0.24107, Train Acc: 0.92325, Train Precision: 0.91679, Train Recall: 0.93100, Train F1: 0.92384\n"
          ]
        },
        {
          "output_type": "stream",
          "name": "stderr",
          "text": [
            "\r  8%|▊         | 5/60 [00:51<09:19, 10.17s/it]"
          ]
        },
        {
          "output_type": "stream",
          "name": "stdout",
          "text": [
            "Epoch: 005, Loss: 0.20731, Train Acc: 0.91050, Train Precision: 0.95160, Train Recall: 0.86500, Train F1: 0.90623\n"
          ]
        },
        {
          "output_type": "stream",
          "name": "stderr",
          "text": [
            "\r 10%|█         | 6/60 [01:02<09:10, 10.20s/it]"
          ]
        },
        {
          "output_type": "stream",
          "name": "stdout",
          "text": [
            "Epoch: 006, Loss: 0.20496, Train Acc: 0.92950, Train Precision: 0.96432, Train Recall: 0.89200, Train F1: 0.92675\n"
          ]
        },
        {
          "output_type": "stream",
          "name": "stderr",
          "text": [
            "\r 12%|█▏        | 7/60 [01:12<09:01, 10.21s/it]"
          ]
        },
        {
          "output_type": "stream",
          "name": "stdout",
          "text": [
            "Epoch: 007, Loss: 0.16765, Train Acc: 0.94925, Train Precision: 0.96675, Train Recall: 0.93050, Train F1: 0.94828\n"
          ]
        },
        {
          "output_type": "stream",
          "name": "stderr",
          "text": [
            "\r 13%|█▎        | 8/60 [01:22<08:53, 10.25s/it]"
          ]
        },
        {
          "output_type": "stream",
          "name": "stdout",
          "text": [
            "Epoch: 008, Loss: 0.16779, Train Acc: 0.91300, Train Precision: 0.95838, Train Recall: 0.86350, Train F1: 0.90847\n"
          ]
        },
        {
          "output_type": "stream",
          "name": "stderr",
          "text": [
            "\r 15%|█▌        | 9/60 [01:33<08:45, 10.30s/it]"
          ]
        },
        {
          "output_type": "stream",
          "name": "stdout",
          "text": [
            "Epoch: 009, Loss: 0.15410, Train Acc: 0.95700, Train Precision: 0.94369, Train Recall: 0.97200, Train F1: 0.95764\n"
          ]
        },
        {
          "output_type": "stream",
          "name": "stderr",
          "text": [
            "\r 17%|█▋        | 10/60 [01:43<08:37, 10.36s/it]"
          ]
        },
        {
          "output_type": "stream",
          "name": "stdout",
          "text": [
            "Epoch: 010, Loss: 0.13314, Train Acc: 0.95950, Train Precision: 0.95182, Train Recall: 0.96800, Train F1: 0.95984\n"
          ]
        },
        {
          "output_type": "stream",
          "name": "stderr",
          "text": [
            "\r 18%|█▊        | 11/60 [01:54<08:30, 10.42s/it]"
          ]
        },
        {
          "output_type": "stream",
          "name": "stdout",
          "text": [
            "Epoch: 011, Loss: 0.12630, Train Acc: 0.95700, Train Precision: 0.96968, Train Recall: 0.94350, Train F1: 0.95641\n"
          ]
        },
        {
          "output_type": "stream",
          "name": "stderr",
          "text": [
            "\r 20%|██        | 12/60 [02:04<08:21, 10.44s/it]"
          ]
        },
        {
          "output_type": "stream",
          "name": "stdout",
          "text": [
            "Epoch: 012, Loss: 0.12537, Train Acc: 0.96525, Train Precision: 0.96317, Train Recall: 0.96750, Train F1: 0.96533\n"
          ]
        },
        {
          "output_type": "stream",
          "name": "stderr",
          "text": [
            "\r 22%|██▏       | 13/60 [02:15<08:11, 10.46s/it]"
          ]
        },
        {
          "output_type": "stream",
          "name": "stdout",
          "text": [
            "Epoch: 013, Loss: 0.11716, Train Acc: 0.96375, Train Precision: 0.97153, Train Recall: 0.95550, Train F1: 0.96345\n"
          ]
        },
        {
          "output_type": "stream",
          "name": "stderr",
          "text": [
            "\r 23%|██▎       | 14/60 [02:25<08:02, 10.49s/it]"
          ]
        },
        {
          "output_type": "stream",
          "name": "stdout",
          "text": [
            "Epoch: 014, Loss: 0.10601, Train Acc: 0.94925, Train Precision: 0.98594, Train Recall: 0.91150, Train F1: 0.94726\n"
          ]
        },
        {
          "output_type": "stream",
          "name": "stderr",
          "text": [
            "\r 25%|██▌       | 15/60 [02:36<07:51, 10.48s/it]"
          ]
        },
        {
          "output_type": "stream",
          "name": "stdout",
          "text": [
            "Epoch: 015, Loss: 0.10736, Train Acc: 0.97025, Train Precision: 0.96216, Train Recall: 0.97900, Train F1: 0.97051\n"
          ]
        },
        {
          "output_type": "stream",
          "name": "stderr",
          "text": [
            "\r 27%|██▋       | 16/60 [02:46<07:41, 10.49s/it]"
          ]
        },
        {
          "output_type": "stream",
          "name": "stdout",
          "text": [
            "Epoch: 016, Loss: 0.09821, Train Acc: 0.97575, Train Precision: 0.98226, Train Recall: 0.96900, Train F1: 0.97559\n"
          ]
        },
        {
          "output_type": "stream",
          "name": "stderr",
          "text": [
            "\r 28%|██▊       | 17/60 [02:57<07:30, 10.47s/it]"
          ]
        },
        {
          "output_type": "stream",
          "name": "stdout",
          "text": [
            "Epoch: 017, Loss: 0.08320, Train Acc: 0.98075, Train Precision: 0.97670, Train Recall: 0.98500, Train F1: 0.98083\n"
          ]
        },
        {
          "output_type": "stream",
          "name": "stderr",
          "text": [
            "\r 30%|███       | 18/60 [03:07<07:19, 10.47s/it]"
          ]
        },
        {
          "output_type": "stream",
          "name": "stdout",
          "text": [
            "Epoch: 018, Loss: 0.06734, Train Acc: 0.97375, Train Precision: 0.99068, Train Recall: 0.95650, Train F1: 0.97329\n"
          ]
        },
        {
          "output_type": "stream",
          "name": "stderr",
          "text": [
            "\r 32%|███▏      | 19/60 [03:18<07:08, 10.46s/it]"
          ]
        },
        {
          "output_type": "stream",
          "name": "stdout",
          "text": [
            "Epoch: 019, Loss: 0.06810, Train Acc: 0.98475, Train Precision: 0.98743, Train Recall: 0.98200, Train F1: 0.98471\n"
          ]
        },
        {
          "output_type": "stream",
          "name": "stderr",
          "text": [
            "\r 33%|███▎      | 20/60 [03:28<06:59, 10.48s/it]"
          ]
        },
        {
          "output_type": "stream",
          "name": "stdout",
          "text": [
            "Epoch: 020, Loss: 0.06122, Train Acc: 0.98625, Train Precision: 0.98698, Train Recall: 0.98550, Train F1: 0.98624\n"
          ]
        },
        {
          "output_type": "stream",
          "name": "stderr",
          "text": [
            "\r 35%|███▌      | 21/60 [03:39<06:50, 10.51s/it]"
          ]
        },
        {
          "output_type": "stream",
          "name": "stdout",
          "text": [
            "Epoch: 021, Loss: 0.06110, Train Acc: 0.97675, Train Precision: 0.99226, Train Recall: 0.96100, Train F1: 0.97638\n"
          ]
        },
        {
          "output_type": "stream",
          "name": "stderr",
          "text": [
            "\r 37%|███▋      | 22/60 [03:49<06:38, 10.49s/it]"
          ]
        },
        {
          "output_type": "stream",
          "name": "stdout",
          "text": [
            "Epoch: 022, Loss: 0.06059, Train Acc: 0.98950, Train Precision: 0.99097, Train Recall: 0.98800, Train F1: 0.98948\n"
          ]
        },
        {
          "output_type": "stream",
          "name": "stderr",
          "text": [
            "\r 38%|███▊      | 23/60 [04:00<06:27, 10.48s/it]"
          ]
        },
        {
          "output_type": "stream",
          "name": "stdout",
          "text": [
            "Epoch: 023, Loss: 0.04435, Train Acc: 0.98350, Train Precision: 0.98987, Train Recall: 0.97700, Train F1: 0.98339\n"
          ]
        },
        {
          "output_type": "stream",
          "name": "stderr",
          "text": [
            "\r 40%|████      | 24/60 [04:10<06:17, 10.47s/it]"
          ]
        },
        {
          "output_type": "stream",
          "name": "stdout",
          "text": [
            "Epoch: 024, Loss: 0.04487, Train Acc: 0.98650, Train Precision: 0.97884, Train Recall: 0.99450, Train F1: 0.98661\n"
          ]
        },
        {
          "output_type": "stream",
          "name": "stderr",
          "text": [
            "\r 42%|████▏     | 25/60 [04:20<06:06, 10.47s/it]"
          ]
        },
        {
          "output_type": "stream",
          "name": "stdout",
          "text": [
            "Epoch: 025, Loss: 0.04062, Train Acc: 0.98625, Train Precision: 0.99241, Train Recall: 0.98000, Train F1: 0.98616\n"
          ]
        },
        {
          "output_type": "stream",
          "name": "stderr",
          "text": [
            "\r 43%|████▎     | 26/60 [04:31<05:57, 10.50s/it]"
          ]
        },
        {
          "output_type": "stream",
          "name": "stdout",
          "text": [
            "Epoch: 026, Loss: 0.05591, Train Acc: 0.99100, Train Precision: 0.99100, Train Recall: 0.99100, Train F1: 0.99100\n"
          ]
        },
        {
          "output_type": "stream",
          "name": "stderr",
          "text": [
            "\r 45%|████▌     | 27/60 [04:41<05:45, 10.48s/it]"
          ]
        },
        {
          "output_type": "stream",
          "name": "stdout",
          "text": [
            "Epoch: 027, Loss: 0.03764, Train Acc: 0.98800, Train Precision: 0.98461, Train Recall: 0.99150, Train F1: 0.98804\n"
          ]
        },
        {
          "output_type": "stream",
          "name": "stderr",
          "text": [
            "\r 47%|████▋     | 28/60 [04:52<05:35, 10.49s/it]"
          ]
        },
        {
          "output_type": "stream",
          "name": "stdout",
          "text": [
            "Epoch: 028, Loss: 0.03821, Train Acc: 0.99150, Train Precision: 0.99052, Train Recall: 0.99250, Train F1: 0.99151\n"
          ]
        },
        {
          "output_type": "stream",
          "name": "stderr",
          "text": [
            "\r 48%|████▊     | 29/60 [05:02<05:25, 10.49s/it]"
          ]
        },
        {
          "output_type": "stream",
          "name": "stdout",
          "text": [
            "Epoch: 029, Loss: 0.03259, Train Acc: 0.99250, Train Precision: 0.99299, Train Recall: 0.99200, Train F1: 0.99250\n"
          ]
        },
        {
          "output_type": "stream",
          "name": "stderr",
          "text": [
            "\r 50%|█████     | 30/60 [05:13<05:14, 10.49s/it]"
          ]
        },
        {
          "output_type": "stream",
          "name": "stdout",
          "text": [
            "Epoch: 030, Loss: 0.04588, Train Acc: 0.98600, Train Precision: 0.97647, Train Recall: 0.99600, Train F1: 0.98614\n"
          ]
        },
        {
          "output_type": "stream",
          "name": "stderr",
          "text": [
            "\r 52%|█████▏    | 31/60 [05:23<05:04, 10.50s/it]"
          ]
        },
        {
          "output_type": "stream",
          "name": "stdout",
          "text": [
            "Epoch: 031, Loss: 0.04684, Train Acc: 0.98875, Train Precision: 0.98753, Train Recall: 0.99000, Train F1: 0.98876\n"
          ]
        },
        {
          "output_type": "stream",
          "name": "stderr",
          "text": [
            "\r 53%|█████▎    | 32/60 [05:34<04:53, 10.47s/it]"
          ]
        },
        {
          "output_type": "stream",
          "name": "stdout",
          "text": [
            "Epoch: 032, Loss: 0.04423, Train Acc: 0.99000, Train Precision: 0.99147, Train Recall: 0.98850, Train F1: 0.98998\n"
          ]
        },
        {
          "output_type": "stream",
          "name": "stderr",
          "text": [
            "\r 55%|█████▌    | 33/60 [05:44<04:42, 10.47s/it]"
          ]
        },
        {
          "output_type": "stream",
          "name": "stdout",
          "text": [
            "Epoch: 033, Loss: 0.04050, Train Acc: 0.98700, Train Precision: 0.99391, Train Recall: 0.98000, Train F1: 0.98691\n"
          ]
        },
        {
          "output_type": "stream",
          "name": "stderr",
          "text": [
            "\r 57%|█████▋    | 34/60 [05:55<04:32, 10.47s/it]"
          ]
        },
        {
          "output_type": "stream",
          "name": "stdout",
          "text": [
            "Epoch: 034, Loss: 0.03818, Train Acc: 0.99200, Train Precision: 0.99053, Train Recall: 0.99350, Train F1: 0.99201\n"
          ]
        },
        {
          "output_type": "stream",
          "name": "stderr",
          "text": [
            "\r 58%|█████▊    | 35/60 [06:06<04:24, 10.60s/it]"
          ]
        },
        {
          "output_type": "stream",
          "name": "stdout",
          "text": [
            "Epoch: 035, Loss: 0.03502, Train Acc: 0.99325, Train Precision: 0.99449, Train Recall: 0.99200, Train F1: 0.99324\n"
          ]
        },
        {
          "output_type": "stream",
          "name": "stderr",
          "text": [
            "\r 60%|██████    | 36/60 [06:16<04:13, 10.57s/it]"
          ]
        },
        {
          "output_type": "stream",
          "name": "stdout",
          "text": [
            "Epoch: 036, Loss: 0.03571, Train Acc: 0.99225, Train Precision: 0.99250, Train Recall: 0.99200, Train F1: 0.99225\n"
          ]
        },
        {
          "output_type": "stream",
          "name": "stderr",
          "text": [
            "\r 62%|██████▏   | 37/60 [06:27<04:02, 10.53s/it]"
          ]
        },
        {
          "output_type": "stream",
          "name": "stdout",
          "text": [
            "Epoch: 037, Loss: 0.02388, Train Acc: 0.99300, Train Precision: 0.98957, Train Recall: 0.99650, Train F1: 0.99302\n"
          ]
        },
        {
          "output_type": "stream",
          "name": "stderr",
          "text": [
            "\r 63%|██████▎   | 38/60 [06:37<03:51, 10.51s/it]"
          ]
        },
        {
          "output_type": "stream",
          "name": "stdout",
          "text": [
            "Epoch: 038, Loss: 0.02127, Train Acc: 0.99400, Train Precision: 0.99648, Train Recall: 0.99150, Train F1: 0.99398\n"
          ]
        },
        {
          "output_type": "stream",
          "name": "stderr",
          "text": [
            "\r 65%|██████▌   | 39/60 [06:48<03:40, 10.49s/it]"
          ]
        },
        {
          "output_type": "stream",
          "name": "stdout",
          "text": [
            "Epoch: 039, Loss: 0.02125, Train Acc: 0.99400, Train Precision: 0.99400, Train Recall: 0.99400, Train F1: 0.99400\n"
          ]
        },
        {
          "output_type": "stream",
          "name": "stderr",
          "text": [
            "\r 67%|██████▋   | 40/60 [06:58<03:29, 10.48s/it]"
          ]
        },
        {
          "output_type": "stream",
          "name": "stdout",
          "text": [
            "Epoch: 040, Loss: 0.02441, Train Acc: 0.99400, Train Precision: 0.99549, Train Recall: 0.99250, Train F1: 0.99399\n"
          ]
        },
        {
          "output_type": "stream",
          "name": "stderr",
          "text": [
            "\r 68%|██████▊   | 41/60 [07:09<03:19, 10.50s/it]"
          ]
        },
        {
          "output_type": "stream",
          "name": "stdout",
          "text": [
            "Epoch: 041, Loss: 0.02092, Train Acc: 0.99425, Train Precision: 0.99351, Train Recall: 0.99500, Train F1: 0.99425\n"
          ]
        },
        {
          "output_type": "stream",
          "name": "stderr",
          "text": [
            "\r 70%|███████   | 42/60 [07:19<03:08, 10.48s/it]"
          ]
        },
        {
          "output_type": "stream",
          "name": "stdout",
          "text": [
            "Epoch: 042, Loss: 0.02464, Train Acc: 0.99450, Train Precision: 0.99599, Train Recall: 0.99300, Train F1: 0.99449\n"
          ]
        },
        {
          "output_type": "stream",
          "name": "stderr",
          "text": [
            "\r 72%|███████▏  | 43/60 [07:29<02:57, 10.46s/it]"
          ]
        },
        {
          "output_type": "stream",
          "name": "stdout",
          "text": [
            "Epoch: 043, Loss: 0.02952, Train Acc: 0.98675, Train Precision: 0.98122, Train Recall: 0.99250, Train F1: 0.98683\n"
          ]
        },
        {
          "output_type": "stream",
          "name": "stderr",
          "text": [
            "\r 73%|███████▎  | 44/60 [07:40<02:47, 10.45s/it]"
          ]
        },
        {
          "output_type": "stream",
          "name": "stdout",
          "text": [
            "Epoch: 044, Loss: 0.05441, Train Acc: 0.98475, Train Precision: 0.98792, Train Recall: 0.98150, Train F1: 0.98470\n"
          ]
        },
        {
          "output_type": "stream",
          "name": "stderr",
          "text": [
            "\r 75%|███████▌  | 45/60 [07:50<02:36, 10.44s/it]"
          ]
        },
        {
          "output_type": "stream",
          "name": "stdout",
          "text": [
            "Epoch: 045, Loss: 0.04192, Train Acc: 0.99150, Train Precision: 0.99052, Train Recall: 0.99250, Train F1: 0.99151\n"
          ]
        },
        {
          "output_type": "stream",
          "name": "stderr",
          "text": [
            "\r 77%|███████▋  | 46/60 [08:01<02:26, 10.46s/it]"
          ]
        },
        {
          "output_type": "stream",
          "name": "stdout",
          "text": [
            "Epoch: 046, Loss: 0.03201, Train Acc: 0.98750, Train Precision: 0.98172, Train Recall: 0.99350, Train F1: 0.98757\n"
          ]
        },
        {
          "output_type": "stream",
          "name": "stderr",
          "text": [
            "\r 78%|███████▊  | 47/60 [08:11<02:15, 10.45s/it]"
          ]
        },
        {
          "output_type": "stream",
          "name": "stdout",
          "text": [
            "Epoch: 047, Loss: 0.02790, Train Acc: 0.99350, Train Precision: 0.99350, Train Recall: 0.99350, Train F1: 0.99350\n"
          ]
        },
        {
          "output_type": "stream",
          "name": "stderr",
          "text": [
            "\r 80%|████████  | 48/60 [08:22<02:05, 10.45s/it]"
          ]
        },
        {
          "output_type": "stream",
          "name": "stdout",
          "text": [
            "Epoch: 048, Loss: 0.02374, Train Acc: 0.99250, Train Precision: 0.99497, Train Recall: 0.99000, Train F1: 0.99248\n"
          ]
        },
        {
          "output_type": "stream",
          "name": "stderr",
          "text": [
            "\r 82%|████████▏ | 49/60 [08:32<01:55, 10.52s/it]"
          ]
        },
        {
          "output_type": "stream",
          "name": "stdout",
          "text": [
            "Epoch: 049, Loss: 0.02537, Train Acc: 0.99450, Train Precision: 0.99450, Train Recall: 0.99450, Train F1: 0.99450\n"
          ]
        },
        {
          "output_type": "stream",
          "name": "stderr",
          "text": [
            "\r 83%|████████▎ | 50/60 [08:43<01:45, 10.50s/it]"
          ]
        },
        {
          "output_type": "stream",
          "name": "stdout",
          "text": [
            "Epoch: 050, Loss: 0.01870, Train Acc: 0.99350, Train Precision: 0.99056, Train Recall: 0.99650, Train F1: 0.99352\n"
          ]
        },
        {
          "output_type": "stream",
          "name": "stderr",
          "text": [
            "\r 85%|████████▌ | 51/60 [08:53<01:34, 10.51s/it]"
          ]
        },
        {
          "output_type": "stream",
          "name": "stdout",
          "text": [
            "Epoch: 051, Loss: 0.01946, Train Acc: 0.99425, Train Precision: 0.99155, Train Recall: 0.99700, Train F1: 0.99427\n"
          ]
        },
        {
          "output_type": "stream",
          "name": "stderr",
          "text": [
            "\r 87%|████████▋ | 52/60 [09:04<01:23, 10.48s/it]"
          ]
        },
        {
          "output_type": "stream",
          "name": "stdout",
          "text": [
            "Epoch: 052, Loss: 0.01524, Train Acc: 0.99575, Train Precision: 0.99550, Train Recall: 0.99600, Train F1: 0.99575\n"
          ]
        },
        {
          "output_type": "stream",
          "name": "stderr",
          "text": [
            "\r 88%|████████▊ | 53/60 [09:14<01:13, 10.47s/it]"
          ]
        },
        {
          "output_type": "stream",
          "name": "stdout",
          "text": [
            "Epoch: 053, Loss: 0.01368, Train Acc: 0.99525, Train Precision: 0.99500, Train Recall: 0.99550, Train F1: 0.99525\n"
          ]
        },
        {
          "output_type": "stream",
          "name": "stderr",
          "text": [
            "\r 90%|█████████ | 54/60 [09:25<01:04, 10.68s/it]"
          ]
        },
        {
          "output_type": "stream",
          "name": "stdout",
          "text": [
            "Epoch: 054, Loss: 0.01483, Train Acc: 0.99550, Train Precision: 0.99600, Train Recall: 0.99500, Train F1: 0.99550\n"
          ]
        },
        {
          "output_type": "stream",
          "name": "stderr",
          "text": [
            "\r 92%|█████████▏| 55/60 [09:36<00:53, 10.68s/it]"
          ]
        },
        {
          "output_type": "stream",
          "name": "stdout",
          "text": [
            "Epoch: 055, Loss: 0.01442, Train Acc: 0.99525, Train Precision: 0.99500, Train Recall: 0.99550, Train F1: 0.99525\n"
          ]
        },
        {
          "output_type": "stream",
          "name": "stderr",
          "text": [
            "\r 93%|█████████▎| 56/60 [09:47<00:43, 10.91s/it]"
          ]
        },
        {
          "output_type": "stream",
          "name": "stdout",
          "text": [
            "Epoch: 056, Loss: 0.01336, Train Acc: 0.99550, Train Precision: 0.99500, Train Recall: 0.99600, Train F1: 0.99550\n"
          ]
        },
        {
          "output_type": "stream",
          "name": "stderr",
          "text": [
            "\r 95%|█████████▌| 57/60 [09:58<00:32, 10.85s/it]"
          ]
        },
        {
          "output_type": "stream",
          "name": "stdout",
          "text": [
            "Epoch: 057, Loss: 0.01281, Train Acc: 0.99525, Train Precision: 0.99352, Train Recall: 0.99700, Train F1: 0.99526\n"
          ]
        },
        {
          "output_type": "stream",
          "name": "stderr",
          "text": [
            "\r 97%|█████████▋| 58/60 [10:09<00:21, 10.78s/it]"
          ]
        },
        {
          "output_type": "stream",
          "name": "stdout",
          "text": [
            "Epoch: 058, Loss: 0.01425, Train Acc: 0.99575, Train Precision: 0.99550, Train Recall: 0.99600, Train F1: 0.99575\n"
          ]
        },
        {
          "output_type": "stream",
          "name": "stderr",
          "text": [
            "\r 98%|█████████▊| 59/60 [10:19<00:10, 10.67s/it]"
          ]
        },
        {
          "output_type": "stream",
          "name": "stdout",
          "text": [
            "Epoch: 059, Loss: 0.01564, Train Acc: 0.98200, Train Precision: 0.99742, Train Recall: 0.96650, Train F1: 0.98172\n"
          ]
        },
        {
          "output_type": "stream",
          "name": "stderr",
          "text": [
            "100%|██████████| 60/60 [10:30<00:00, 10.50s/it]"
          ]
        },
        {
          "output_type": "stream",
          "name": "stdout",
          "text": [
            "Epoch: 060, Loss: 0.02701, Train Acc: 0.99200, Train Precision: 0.99200, Train Recall: 0.99200, Train F1: 0.99200\n"
          ]
        },
        {
          "output_type": "stream",
          "name": "stderr",
          "text": [
            "\n"
          ]
        },
        {
          "output_type": "stream",
          "name": "stdout",
          "text": [
            "Epoch: 060, Loss: 0.02701, Test Acc: 0.99200, Test Precision: 0.99200, Test Recall: 0.99200, Test F1: 0.99200\n"
          ]
        }
      ],
      "source": [
        "import sys\n",
        "import os.path as osp\n",
        "from random import random\n",
        "import numpy as np\n",
        "import torch\n",
        "import torch.nn.functional as F\n",
        "from torch.nn import Embedding, Conv1d, LSTM, Linear, BCELoss, Conv2d, ZeroPad2d\n",
        "from sklearn.metrics import confusion_matrix, f1_score, precision_score, recall_score, accuracy_score\n",
        "from sklearn.metrics import roc_curve, auc\n",
        "import matplotlib.pyplot as plt\n",
        "import pandas as pd\n",
        "import torch.utils.data as Data\n",
        "\n",
        "import warnings\n",
        "\n",
        "warnings.filterwarnings(\"ignore\")\n",
        "\n",
        "device = torch.device('cuda' if torch.cuda.is_available() else 'cpu')\n",
        "# device = torch.device('cpu')\n",
        "print('device', device)\n",
        "\n",
        "\n",
        "class Net(torch.nn.Module):\n",
        "    def __init__(self):\n",
        "        super(Net, self).__init__()\n",
        "\n",
        "        self.embedder1 = Embedding(num_embeddings=316, embedding_dim=16)\n",
        "        self.embedder2 = Embedding(num_embeddings=289, embedding_dim=8)\n",
        "\n",
        "        self.cnn1_1 = Conv2d(in_channels=1, out_channels=128, kernel_size=(3, 16), stride=1, padding=(1, 0))\n",
        "        self.cnn1_2 = Conv2d(in_channels=1, out_channels=128, kernel_size=(4, 16), stride=1)\n",
        "        self.cnn1_3 = Conv2d(in_channels=1, out_channels=128, kernel_size=(5, 16), stride=1, padding=(2, 0))\n",
        "\n",
        "        self.cnn2 = Conv2d(in_channels=1, out_channels=128, kernel_size=(4, 8), stride=4)\n",
        "\n",
        "        self.lstm = LSTM(input_size=512, hidden_size=100, bidirectional=True, batch_first=True)\n",
        "\n",
        "        self.lin1 = Linear(200, 64)\n",
        "        self.lin2 = Linear(64, 32)\n",
        "        self.lin3 = Linear(32, 1)\n",
        "\n",
        "    def forward(self, data):\n",
        "        x_name, x_behavior = data.split([1000, 4000], 1)\n",
        "\n",
        "        # print(x_name.shape)\n",
        "        # print(x_behavior.shape)\n",
        "\n",
        "        x_name = self.embedder1(x_name)\n",
        "        x_behavior = self.embedder2(x_behavior)\n",
        "\n",
        "        x_name = x_name.unsqueeze(1)\n",
        "        x_behavior = x_behavior.unsqueeze(1)\n",
        "\n",
        "        pad = ZeroPad2d(padding=(0, 0, 2, 1))\n",
        "        x_name_pad = pad(x_name)\n",
        "\n",
        "        x_name_cnn1 = F.relu(self.cnn1_1(x_name)).squeeze(-1).permute(0, 2, 1)\n",
        "        x_name_cnn2 = F.relu(self.cnn1_2(x_name_pad)).squeeze(-1).permute(0, 2, 1)\n",
        "        x_name_cnn3 = F.relu(self.cnn1_3(x_name)).squeeze(-1).permute(0, 2, 1)\n",
        "\n",
        "        x_behavior = F.relu(self.cnn2(x_behavior)).squeeze(-1).permute(0, 2, 1)\n",
        "\n",
        "        x = torch.cat([x_name_cnn1, x_name_cnn2, x_name_cnn3, x_behavior], dim=-1)\n",
        "\n",
        "        x, (h_n, c_n) = self.lstm(x)\n",
        "\n",
        "        output_fw = h_n[-2, :, :]\n",
        "        output_bw = h_n[-1, :, :]\n",
        "\n",
        "        x = torch.cat([output_fw, output_bw], dim=-1)\n",
        "        x = F.relu(self.lin1(x))\n",
        "        x = F.dropout(x, p=0.2, training=self.training)\n",
        "        x = F.relu(self.lin2(x))\n",
        "        x = F.dropout(x, p=0.2, training=self.training)\n",
        "        x = F.sigmoid(self.lin3(x))\n",
        "\n",
        "        return x\n",
        "\n",
        "\n",
        "def train(epoch, loader):\n",
        "    model.train()\n",
        "\n",
        "    loss_all = 0\n",
        "    for step, (b_x, b_y) in enumerate(loader):\n",
        "        b_x = b_x.to(device)\n",
        "        b_y = b_y.to(device)\n",
        "        optimizer.zero_grad()\n",
        "        output = model(b_x)\n",
        "        loss = F.binary_cross_entropy(output, b_y)\n",
        "        loss.backward()\n",
        "        loss_all += b_x.size(0) * loss.item()\n",
        "        optimizer.step()\n",
        "    return loss_all / len(train_x)\n",
        "\n",
        "\n",
        "def test(loader):\n",
        "    model.eval()\n",
        "    label_list = []\n",
        "    pred_list = []\n",
        "    for step, (b_x, b_y) in enumerate(loader):\n",
        "        b_x = b_x.to(device)\n",
        "        pred = model(b_x)\n",
        "        pred = torch.where(pred >= 0.5, torch.ones_like(pred), torch.zeros_like(pred))\n",
        "\n",
        "        label_list_batch = b_y.to('cpu').detach().numpy().tolist()\n",
        "        pred_list_batch = pred.to('cpu').detach().numpy().tolist()\n",
        "        for label_item in label_list_batch:\n",
        "            label_list.append(label_item)\n",
        "        for pred_item in pred_list_batch:\n",
        "            pred_list.append(pred_item)\n",
        "\n",
        "    y_true = np.asarray(label_list)\n",
        "    y_pred = np.asarray(pred_list)\n",
        "    _val_confusion_matrix = confusion_matrix(y_true, y_pred)\n",
        "    _val_acc = accuracy_score(y_true, y_pred)\n",
        "    _val_precision = precision_score(y_true, y_pred)\n",
        "    _val_recall = recall_score(y_true, y_pred)\n",
        "    _val_f1 = f1_score(y_true, y_pred)\n",
        "    return _val_confusion_matrix, _val_acc, _val_precision, _val_recall, _val_f1\n",
        "\n",
        "\n",
        "'''\n",
        "data = np.load('./data/detection_train_test.npz', allow_pickle=True)\n",
        "train_x_name = data['train_x_name']\n",
        "train_x_semantic = data['train_x_semantic']\n",
        "train_y = data['train_y']\n",
        "test_x_name = data['test_x_name']\n",
        "test_x_semantic = data['test_x_semantic']\n",
        "test_y = data['test_y']\n",
        "train_x = np.concatenate([train_x_name, train_x_semantic], 1)\n",
        "test_x = np.concatenate([test_x_name, test_x_semantic], 1)\n",
        "'''\n",
        "\n",
        "## the whole dataset is too big, use the demo dataset\n",
        "data = np.load('./data_demo.npz')\n",
        "train_x_name = data['x_name']\n",
        "train_x_semantic = data['x_semantic']\n",
        "train_y = data['y']\n",
        "test_x_name = data['x_name']\n",
        "test_x_semantic = data['x_semantic']\n",
        "test_y = data['y']\n",
        "train_x = np.concatenate([train_x_name, train_x_semantic], 1)\n",
        "test_x = np.concatenate([test_x_name, test_x_semantic], 1)\n",
        "\n",
        "train_xt = torch.from_numpy(train_x)\n",
        "test_xt = torch.from_numpy(test_x)\n",
        "train_yt = torch.from_numpy(train_y.astype(np.float32))\n",
        "test_yt = torch.from_numpy(test_y.astype(np.float32))\n",
        "\n",
        "train_data = Data.TensorDataset(train_xt, train_yt)\n",
        "test_data = Data.TensorDataset(test_xt, test_yt)\n",
        "\n",
        "train_loader = Data.DataLoader(\n",
        "    dataset=train_data,\n",
        "    batch_size=128,\n",
        "    shuffle=True,\n",
        "    num_workers=1,\n",
        ")\n",
        "\n",
        "test_loader = Data.DataLoader(\n",
        "    dataset=test_data,\n",
        "    batch_size=128,\n",
        "    num_workers=1,\n",
        ")\n",
        "\n",
        "model = Net().to(device)\n",
        "optimizer = torch.optim.Adam(model.parameters(), lr=0.001)\n",
        "train_scores = {'confusion_matrix': [], 'acc': [], 'precision': [], 'recall': [], 'f1': []}\n",
        "test_scores = {'confusion_matrix': [], 'acc': [], 'precision': [], 'recall': [], 'f1': []}\n",
        "\n",
        "from tqdm import tqdm\n",
        "# train\n",
        "for epoch in tqdm(range(1, 61)):\n",
        "    loss = train(epoch, train_loader)\n",
        "    con, acc, precision, recall, f1 = test(train_loader)\n",
        "    print(\n",
        "        'Epoch: {:03d}, Loss: {:.5f}, Train Acc: {:.5f}, Train Precision: {:.5f}, Train Recall: {:.5f}, Train F1: {:.5f}'.\n",
        "            format(epoch, loss, acc, precision, recall, f1))\n",
        "    train_scores['confusion_matrix'].append(con)\n",
        "    train_scores['acc'].append(acc)\n",
        "    train_scores['precision'].append(precision)\n",
        "    train_scores['recall'].append(recall)\n",
        "    train_scores['f1'].append(f1)\n",
        "\n",
        "# test\n",
        "con, acc, precision, recall, f1 = test(test_loader)\n",
        "test_scores['confusion_matrix'].append(con)\n",
        "test_scores['acc'].append(acc)\n",
        "test_scores['precision'].append(precision)\n",
        "test_scores['recall'].append(recall)\n",
        "test_scores['f1'].append(f1)\n",
        "print('Epoch: {:03d}, Loss: {:.5f}, Test Acc: {:.5f}, Test Precision: {:.5f}, Test Recall: {:.5f}, Test F1: {:.5f}'.\n",
        "      format(epoch, loss, acc, precision, recall, f1))\n",
        "\n",
        "# torch.save(model, './model/model.pkl')"
      ]
    },
    {
      "cell_type": "code",
      "source": [
        "import torch\n",
        "from torch.utils.data import DataLoader, TensorDataset\n",
        "import torch.optim as optim\n",
        "import torch.nn.functional as F\n",
        "from torch.nn import Embedding, LSTM, Linear, BCELoss\n",
        "from sklearn.metrics import f1_score, precision_score, recall_score\n",
        "import numpy as np\n",
        "import warnings\n",
        "\n",
        "warnings.filterwarnings(\"ignore\")\n",
        "\n",
        "class LSTMNet(torch.nn.Module):\n",
        "    def __init__(self):\n",
        "        super(LSTMNet, self).__init__()\n",
        "        self.embedder = Embedding(num_embeddings=316, embedding_dim=16)\n",
        "        self.lstm = LSTM(input_size=16, hidden_size=100, bidirectional=True, batch_first=True)\n",
        "        self.lin1 = Linear(200, 64)\n",
        "        self.lin2 = Linear(64, 1)\n",
        "\n",
        "    def forward(self, x):\n",
        "        x = self.embedder(x)\n",
        "        x, (h_n, c_n) = self.lstm(x)\n",
        "        x = torch.cat((h_n[-2,:,:], h_n[-1,:,:]), dim=1)\n",
        "        x = F.relu(self.lin1(x))\n",
        "        x = torch.sigmoid(self.lin2(x))\n",
        "        return x\n",
        "\n",
        "def test(model, device, test_loader):\n",
        "    model.eval()\n",
        "    all_preds = []\n",
        "    all_targets = []\n",
        "    with torch.no_grad():\n",
        "        for data, target in test_loader:\n",
        "            data, target = data.to(device), target.to(device)\n",
        "            output = model(data)\n",
        "            preds = output.round()\n",
        "            all_preds.extend(preds.view(-1).cpu().numpy())\n",
        "            all_targets.extend(target.cpu().numpy())\n",
        "\n",
        "    # Calculate metrics\n",
        "    precision = precision_score(all_targets, all_preds)\n",
        "    recall = recall_score(all_targets, all_preds)\n",
        "    f1 = f1_score(all_targets, all_preds)\n",
        "\n",
        "    return precision, recall, f1\n",
        "\n",
        "## the whole dataset is too big, use the demo dataset\n",
        "data = np.load('./data_demo.npz')\n",
        "train_x_name = data['x_name']\n",
        "train_y = data['y']\n",
        "test_x_name = data['x_name']\n",
        "test_y = data['y']\n",
        "\n",
        "train_xt = torch.from_numpy(train_x_name).long()\n",
        "test_xt = torch.from_numpy(test_x_name).long()\n",
        "train_yt = torch.from_numpy(train_y.astype(np.float32))\n",
        "test_yt = torch.from_numpy(test_y.astype(np.float32))\n",
        "\n",
        "train_data = TensorDataset(train_xt, train_yt)\n",
        "test_data = TensorDataset(test_xt, test_yt)\n",
        "\n",
        "train_loader = DataLoader(dataset=train_data, batch_size=128, shuffle=True, num_workers=1)\n",
        "test_loader = DataLoader(dataset=test_data, batch_size=128, num_workers=1)\n",
        "\n",
        "device = torch.device('cuda' if torch.cuda.is_available() else 'cpu')\n",
        "model = LSTMNet().to(device)\n",
        "optimizer = optim.Adam(model.parameters(), lr=0.01)\n",
        "\n",
        "# Training loop\n",
        "for epoch in range(1, 11):  # 10 epochs\n",
        "    model.train()\n",
        "    total_loss = 0\n",
        "    for data, target in train_loader:\n",
        "        data, target = data.to(device), target.to(device)\n",
        "        optimizer.zero_grad()\n",
        "        output = model(data)\n",
        "        if target.dim() == 1:\n",
        "            target = target.unsqueeze(1)  # target 現在應該是 [batch_size, 1]\n",
        "        loss = BCELoss()(output, target)\n",
        "        loss.backward()\n",
        "        optimizer.step()\n",
        "        total_loss += loss.item()\n",
        "    print(f'Epoch {epoch}, Train Loss: {total_loss / len(train_loader)}')\n",
        "\n",
        "\n",
        "\n",
        "# Test\n",
        "precision, recall, f1 = test(model, device, test_loader)\n",
        "print(f'Test Precision: {precision:.4f}, Test Recall: {recall:.4f}, Test F1: {f1:.4f}')\n"
      ],
      "metadata": {
        "colab": {
          "base_uri": "https://localhost:8080/"
        },
        "id": "Vv-5Y74OBQzE",
        "outputId": "e31ca674-9de2-44bf-a4f5-939833b7a020"
      },
      "execution_count": null,
      "outputs": [
        {
          "output_type": "stream",
          "name": "stdout",
          "text": [
            "Epoch 1, Train Loss: 0.49372848123311996\n",
            "Epoch 2, Train Loss: 0.35968773625791073\n",
            "Epoch 3, Train Loss: 0.35932787135243416\n",
            "Epoch 4, Train Loss: 0.3494661985896528\n",
            "Epoch 5, Train Loss: 0.39521539211273193\n",
            "Epoch 6, Train Loss: 0.32728859363123775\n",
            "Epoch 7, Train Loss: 0.2686572172679007\n",
            "Epoch 8, Train Loss: 0.2746171588078141\n",
            "Epoch 9, Train Loss: 0.23142848117277026\n",
            "Epoch 10, Train Loss: 0.20562454778701067\n",
            "Test Precision: 0.9007, Test Recall: 0.9430, Test F1: 0.9213\n"
          ]
        }
      ]
    },
    {
      "cell_type": "code",
      "source": [],
      "metadata": {
        "id": "XnBxZloXCOG4"
      },
      "execution_count": null,
      "outputs": []
    }
  ]
}