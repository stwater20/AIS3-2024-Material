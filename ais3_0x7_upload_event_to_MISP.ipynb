{
  "nbformat": 4,
  "nbformat_minor": 0,
  "metadata": {
    "colab": {
      "provenance": [],
      "authorship_tag": "ABX9TyME6jOqz45lN9B/SGp7V4t9",
      "include_colab_link": true
    },
    "kernelspec": {
      "name": "python3",
      "display_name": "Python 3"
    },
    "language_info": {
      "name": "python"
    }
  },
  "cells": [
    {
      "cell_type": "markdown",
      "metadata": {
        "id": "view-in-github",
        "colab_type": "text"
      },
      "source": [
        "<a href=\"https://colab.research.google.com/github/stwater20/AIS3-2024-Material/blob/main/ais3_0x7_upload_event_to_MISP.ipynb\" target=\"_parent\"><img src=\"https://colab.research.google.com/assets/colab-badge.svg\" alt=\"Open In Colab\"/></a>"
      ]
    },
    {
      "cell_type": "code",
      "source": [
        "!pip3 install pymisp pycryptodome"
      ],
      "metadata": {
        "colab": {
          "base_uri": "https://localhost:8080/"
        },
        "id": "hZ5nYWerb2Zc",
        "outputId": "a7d8032c-2bf5-452a-c09e-8710e7896b46"
      },
      "execution_count": 19,
      "outputs": [
        {
          "output_type": "stream",
          "name": "stdout",
          "text": [
            "Requirement already satisfied: pymisp in /usr/local/lib/python3.10/dist-packages (2.4.195)\n",
            "Collecting pycryptodome\n",
            "  Downloading pycryptodome-3.20.0-cp35-abi3-manylinux_2_17_x86_64.manylinux2014_x86_64.whl.metadata (3.4 kB)\n",
            "Requirement already satisfied: deprecated<2.0.0,>=1.2.14 in /usr/local/lib/python3.10/dist-packages (from pymisp) (1.2.14)\n",
            "Requirement already satisfied: publicsuffixlist<2.0.0.0,>=1.0.2.20240726 in /usr/local/lib/python3.10/dist-packages (from pymisp) (1.0.2.20240730)\n",
            "Requirement already satisfied: python-dateutil<3.0.0,>=2.9.0.post0 in /usr/local/lib/python3.10/dist-packages (from pymisp) (2.9.0.post0)\n",
            "Requirement already satisfied: requests<3.0.0,>=2.32.3 in /usr/local/lib/python3.10/dist-packages (from pymisp) (2.32.3)\n",
            "Requirement already satisfied: wrapt<2,>=1.10 in /usr/local/lib/python3.10/dist-packages (from deprecated<2.0.0,>=1.2.14->pymisp) (1.14.1)\n",
            "Requirement already satisfied: six>=1.5 in /usr/local/lib/python3.10/dist-packages (from python-dateutil<3.0.0,>=2.9.0.post0->pymisp) (1.16.0)\n",
            "Requirement already satisfied: charset-normalizer<4,>=2 in /usr/local/lib/python3.10/dist-packages (from requests<3.0.0,>=2.32.3->pymisp) (3.3.2)\n",
            "Requirement already satisfied: idna<4,>=2.5 in /usr/local/lib/python3.10/dist-packages (from requests<3.0.0,>=2.32.3->pymisp) (3.7)\n",
            "Requirement already satisfied: urllib3<3,>=1.21.1 in /usr/local/lib/python3.10/dist-packages (from requests<3.0.0,>=2.32.3->pymisp) (2.0.7)\n",
            "Requirement already satisfied: certifi>=2017.4.17 in /usr/local/lib/python3.10/dist-packages (from requests<3.0.0,>=2.32.3->pymisp) (2024.7.4)\n",
            "Downloading pycryptodome-3.20.0-cp35-abi3-manylinux_2_17_x86_64.manylinux2014_x86_64.whl (2.1 MB)\n",
            "\u001b[2K   \u001b[90m━━━━━━━━━━━━━━━━━━━━━━━━━━━━━━━━━━━━━━━━\u001b[0m \u001b[32m2.1/2.1 MB\u001b[0m \u001b[31m22.0 MB/s\u001b[0m eta \u001b[36m0:00:00\u001b[0m\n",
            "\u001b[?25hInstalling collected packages: pycryptodome\n",
            "Successfully installed pycryptodome-3.20.0\n"
          ]
        }
      ]
    },
    {
      "cell_type": "code",
      "source": [
        "from Crypto.Cipher import AES\n",
        "import base64\n",
        "import hashlib\n",
        "\n",
        "def decrypt(encrypted_text, key):\n",
        "    key = hashlib.sha256(key.encode()).digest()\n",
        "    encrypted_text = base64.b64decode(encrypted_text)\n",
        "    nonce = encrypted_text[:16]\n",
        "    ciphertext = encrypted_text[16:]\n",
        "    cipher = AES.new(key, AES.MODE_EAX, nonce=nonce)\n",
        "    plaintext = cipher.decrypt(ciphertext)\n",
        "    return plaintext.decode('utf-8')\n",
        "\n",
        "\n",
        "key = \"????????\"\n",
        "encrypted_text = \"RERfVViq76T7nNS4OSppj3b2PHjrwGMXO7vpMH39MD+s0n2DJajG8aCJjINStFeR1uarAXRvnZg=\"\n",
        "decrypted_text = decrypt(encrypted_text, key)\n"
      ],
      "metadata": {
        "id": "m2JUbc8SdVE9"
      },
      "execution_count": 29,
      "outputs": []
    },
    {
      "cell_type": "code",
      "execution_count": 2,
      "metadata": {
        "id": "-FfhPTDPbzaV"
      },
      "outputs": [],
      "source": [
        "from pymisp import MISPEvent,MISPOrganisation, PyMISP\n",
        "from dateutil.parser import parser\n",
        "import json\n",
        "from pymisp.tools import feed_meta_generator\n",
        "from io import BytesIO"
      ]
    },
    {
      "cell_type": "code",
      "source": [
        "make_feed = False\n",
        "misp = None"
      ],
      "metadata": {
        "id": "UlQos5dOb6NP"
      },
      "execution_count": 3,
      "outputs": []
    },
    {
      "cell_type": "code",
      "source": [
        "if make_feed:\n",
        "    org = MISPOrganisation()\n",
        "    org.name = \"ais3.sectools.tw\"\n",
        "    org.uuid = \"d2ded987-c2f1-4b12-bf1d-ba9872d0d452\"\n",
        "else:\n",
        "    url = \"https://misp.sectools.tw\"\n",
        "    key = decrypted_text\n",
        "    misp = PyMISP(url,key,ssl=False)"
      ],
      "metadata": {
        "colab": {
          "base_uri": "https://localhost:8080/"
        },
        "id": "GfX-MvWHcD50",
        "outputId": "529621d1-ff6c-4f0a-e31c-17badccd530a"
      },
      "execution_count": 22,
      "outputs": [
        {
          "output_type": "stream",
          "name": "stderr",
          "text": [
            "/usr/local/lib/python3.10/dist-packages/urllib3/connectionpool.py:1100: InsecureRequestWarning: Unverified HTTPS request is being made to host 'misp.sectools.tw'. Adding certificate verification is strongly advised. See: https://urllib3.readthedocs.io/en/latest/advanced-usage.html#tls-warnings\n",
            "  warnings.warn(\n",
            "/usr/local/lib/python3.10/dist-packages/urllib3/connectionpool.py:1100: InsecureRequestWarning: Unverified HTTPS request is being made to host 'misp.sectools.tw'. Adding certificate verification is strongly advised. See: https://urllib3.readthedocs.io/en/latest/advanced-usage.html#tls-warnings\n",
            "  warnings.warn(\n",
            "/usr/local/lib/python3.10/dist-packages/urllib3/connectionpool.py:1100: InsecureRequestWarning: Unverified HTTPS request is being made to host 'misp.sectools.tw'. Adding certificate verification is strongly advised. See: https://urllib3.readthedocs.io/en/latest/advanced-usage.html#tls-warnings\n",
            "  warnings.warn(\n"
          ]
        }
      ]
    },
    {
      "cell_type": "code",
      "source": [
        "from datetime import datetime\n",
        "from pathlib import Path\n",
        "blacklist_ip = [\"192.168.1.1\"]\n",
        "for p in blacklist_ip:\n",
        "    event = MISPEvent()\n",
        "    event.info = f\"[{str(p)}] is suspected of DDoS\"\n",
        "    event.date = datetime.now()\n",
        "    event.distribution = 3\n",
        "    event.add_tag('tlp:white')\n",
        "    if make_feed:\n",
        "        event.org = org\n",
        "    else:\n",
        "        e = misp.search(eventinfo=event.info, metadata=True, pythonify=True)\n",
        "        if e:\n",
        "            # Already added.\n",
        "            continue\n",
        "\n",
        "    obj_ip = event.add_object(name='domain-ip', standalone=False)\n",
        "    obj_ip.add_attribute('ip', p)\n",
        "    obj_ip.add_attribute('first-seen', datetime.now() )\n",
        "    obj_ip.add_reference(event.uuid, 'related-to',\"ais3_friend\")\n",
        "\n",
        "    if make_feed:\n",
        "        with (Path('output') / f'{event.uuid}.json').open('w') as _w:\n",
        "            json.dump(event.to_feed(), _w)\n",
        "    else:\n",
        "        misp.add_event(event)\n",
        "    print(event.to_json(indent=2))\n",
        "if make_feed:\n",
        "    feed_meta_generator(Path('output'))"
      ],
      "metadata": {
        "colab": {
          "base_uri": "https://localhost:8080/"
        },
        "id": "EXznG3slciCf",
        "outputId": "47db5414-392e-45b0-febe-be3f50208d0e"
      },
      "execution_count": 27,
      "outputs": [
        {
          "output_type": "stream",
          "name": "stderr",
          "text": [
            "/usr/local/lib/python3.10/dist-packages/urllib3/connectionpool.py:1100: InsecureRequestWarning: Unverified HTTPS request is being made to host 'misp.sectools.tw'. Adding certificate verification is strongly advised. See: https://urllib3.readthedocs.io/en/latest/advanced-usage.html#tls-warnings\n",
            "  warnings.warn(\n",
            "/usr/local/lib/python3.10/dist-packages/urllib3/connectionpool.py:1100: InsecureRequestWarning: Unverified HTTPS request is being made to host 'misp.sectools.tw'. Adding certificate verification is strongly advised. See: https://urllib3.readthedocs.io/en/latest/advanced-usage.html#tls-warnings\n",
            "  warnings.warn(\n"
          ]
        },
        {
          "output_type": "stream",
          "name": "stdout",
          "text": [
            "{\n",
            "  \"uuid\": \"47ab1f90-2747-44f4-be81-a97fa5ab5063\",\n",
            "  \"Object\": [\n",
            "    {\n",
            "      \"name\": \"domain-ip\",\n",
            "      \"meta-category\": \"network\",\n",
            "      \"template_uuid\": \"43b3b146-77eb-4931-b4cc-b66c60f28734\",\n",
            "      \"description\": \"A domain/hostname and IP address seen as a tuple in a specific time frame.\",\n",
            "      \"template_version\": \"11\",\n",
            "      \"uuid\": \"cd5dc499-2c64-4a64-beed-a742da612ba8\",\n",
            "      \"ObjectReference\": [\n",
            "        {\n",
            "          \"uuid\": \"4a292914-ac73-40bd-ad5e-2de7d35ddba6\",\n",
            "          \"object_uuid\": \"cd5dc499-2c64-4a64-beed-a742da612ba8\",\n",
            "          \"referenced_uuid\": \"47ab1f90-2747-44f4-be81-a97fa5ab5063\",\n",
            "          \"relationship_type\": \"related-to\",\n",
            "          \"comment\": \"ais3_friend\"\n",
            "        }\n",
            "      ],\n",
            "      \"Attribute\": [\n",
            "        {\n",
            "          \"uuid\": \"14cc404e-748d-4cf0-a8a1-ef660d3d92a4\",\n",
            "          \"object_relation\": \"ip\",\n",
            "          \"value\": \"192.168.1.1\",\n",
            "          \"type\": \"ip-dst\",\n",
            "          \"category\": \"Network activity\",\n",
            "          \"disable_correlation\": false,\n",
            "          \"to_ids\": true\n",
            "        },\n",
            "        {\n",
            "          \"uuid\": \"99573112-77f0-4822-a9df-8b1cf83c3ac0\",\n",
            "          \"object_relation\": \"first-seen\",\n",
            "          \"value\": \"2024-07-31T11:14:05.545153\",\n",
            "          \"type\": \"datetime\",\n",
            "          \"disable_correlation\": true,\n",
            "          \"to_ids\": false,\n",
            "          \"category\": \"Other\"\n",
            "        }\n",
            "      ],\n",
            "      \"distribution\": \"5\",\n",
            "      \"sharing_group_id\": \"0\"\n",
            "    }\n",
            "  ],\n",
            "  \"Tag\": [\n",
            "    {\n",
            "      \"name\": \"tlp:white\"\n",
            "    }\n",
            "  ],\n",
            "  \"info\": \"[192.168.1.1] is suspected of DDoS\",\n",
            "  \"date\": \"2024-07-31\",\n",
            "  \"distribution\": \"3\"\n",
            "}\n"
          ]
        }
      ]
    },
    {
      "cell_type": "code",
      "source": [],
      "metadata": {
        "id": "zhmQJ3m5fe1p"
      },
      "execution_count": null,
      "outputs": []
    }
  ]
}